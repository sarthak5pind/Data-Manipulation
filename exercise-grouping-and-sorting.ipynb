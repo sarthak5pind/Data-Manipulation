{
 "cells": [
  {
   "cell_type": "markdown",
   "id": "42d4e356",
   "metadata": {
    "papermill": {
     "duration": 0.006162,
     "end_time": "2022-08-28T11:14:29.886372",
     "exception": false,
     "start_time": "2022-08-28T11:14:29.880210",
     "status": "completed"
    },
    "tags": []
   },
   "source": [
    "**This notebook is an exercise in the [Pandas](https://www.kaggle.com/learn/pandas) course.  You can reference the tutorial at [this link](https://www.kaggle.com/residentmario/grouping-and-sorting).**\n",
    "\n",
    "---\n"
   ]
  },
  {
   "cell_type": "markdown",
   "id": "80fd91dc",
   "metadata": {
    "papermill": {
     "duration": 0.004652,
     "end_time": "2022-08-28T11:14:29.896151",
     "exception": false,
     "start_time": "2022-08-28T11:14:29.891499",
     "status": "completed"
    },
    "tags": []
   },
   "source": [
    "# Introduction\n",
    "\n",
    "In these exercises we'll apply groupwise analysis to our dataset.\n",
    "\n",
    "Run the code cell below to load the data before running the exercises."
   ]
  },
  {
   "cell_type": "code",
   "execution_count": 1,
   "id": "8cfe0279",
   "metadata": {
    "execution": {
     "iopub.execute_input": "2022-08-28T11:14:29.908645Z",
     "iopub.status.busy": "2022-08-28T11:14:29.907515Z",
     "iopub.status.idle": "2022-08-28T11:14:32.477904Z",
     "shell.execute_reply": "2022-08-28T11:14:32.476944Z"
    },
    "papermill": {
     "duration": 2.579251,
     "end_time": "2022-08-28T11:14:32.480349",
     "exception": false,
     "start_time": "2022-08-28T11:14:29.901098",
     "status": "completed"
    },
    "tags": []
   },
   "outputs": [
    {
     "name": "stdout",
     "output_type": "stream",
     "text": [
      "Setup complete.\n"
     ]
    }
   ],
   "source": [
    "import pandas as pd\n",
    "\n",
    "reviews = pd.read_csv(\"../input/wine-reviews/winemag-data-130k-v2.csv\", index_col=0)\n",
    "#pd.set_option(\"display.max_rows\", 5)\n",
    "\n",
    "from learntools.core import binder; binder.bind(globals())\n",
    "from learntools.pandas.grouping_and_sorting import *\n",
    "print(\"Setup complete.\")"
   ]
  },
  {
   "cell_type": "markdown",
   "id": "c0b9c9ab",
   "metadata": {
    "papermill": {
     "duration": 0.004888,
     "end_time": "2022-08-28T11:14:32.490647",
     "exception": false,
     "start_time": "2022-08-28T11:14:32.485759",
     "status": "completed"
    },
    "tags": []
   },
   "source": [
    "# Exercises"
   ]
  },
  {
   "cell_type": "markdown",
   "id": "12860ad4",
   "metadata": {
    "papermill": {
     "duration": 0.004907,
     "end_time": "2022-08-28T11:14:32.500648",
     "exception": false,
     "start_time": "2022-08-28T11:14:32.495741",
     "status": "completed"
    },
    "tags": []
   },
   "source": [
    "## 1.\n",
    "Who are the most common wine reviewers in the dataset? Create a `Series` whose index is the `taster_twitter_handle` category from the dataset, and whose values count how many reviews each person wrote."
   ]
  },
  {
   "cell_type": "code",
   "execution_count": 2,
   "id": "ed6d15d7",
   "metadata": {
    "execution": {
     "iopub.execute_input": "2022-08-28T11:14:32.512837Z",
     "iopub.status.busy": "2022-08-28T11:14:32.511908Z",
     "iopub.status.idle": "2022-08-28T11:14:32.532033Z",
     "shell.execute_reply": "2022-08-28T11:14:32.530715Z"
    },
    "papermill": {
     "duration": 0.028454,
     "end_time": "2022-08-28T11:14:32.534151",
     "exception": false,
     "start_time": "2022-08-28T11:14:32.505697",
     "status": "completed"
    },
    "tags": []
   },
   "outputs": [
    {
     "data": {
      "application/javascript": [
       "parent.postMessage({\"jupyterEvent\": \"custom.exercise_interaction\", \"data\": {\"outcomeType\": 1, \"valueTowardsCompletion\": 0.16666666666666666, \"interactionType\": 1, \"questionType\": 1, \"questionId\": \"1_ReviewsWritten\", \"learnToolsVersion\": \"0.3.4\", \"failureMessage\": \"\", \"exceptionClass\": \"\", \"trace\": \"\"}}, \"*\")"
      ],
      "text/plain": [
       "<IPython.core.display.Javascript object>"
      ]
     },
     "metadata": {},
     "output_type": "display_data"
    },
    {
     "data": {
      "text/markdown": [
       "<span style=\"color:#33cc33\">Correct:</span> \n",
       "\n",
       "\n",
       "```python\n",
       "reviews_written = reviews.groupby('taster_twitter_handle').size()\n",
       "```\n",
       "or\n",
       "```python\n",
       "reviews_written = reviews.groupby('taster_twitter_handle').taster_twitter_handle.count()\n",
       "```\n"
      ],
      "text/plain": [
       "Correct: \n",
       "\n",
       "\n",
       "```python\n",
       "reviews_written = reviews.groupby('taster_twitter_handle').size()\n",
       "```\n",
       "or\n",
       "```python\n",
       "reviews_written = reviews.groupby('taster_twitter_handle').taster_twitter_handle.count()\n",
       "```"
      ]
     },
     "metadata": {},
     "output_type": "display_data"
    }
   ],
   "source": [
    "# Your code here\n",
    "reviews_written = reviews.groupby('taster_twitter_handle').size()\n",
    "\n",
    "# Check your answer\n",
    "q1.check()"
   ]
  },
  {
   "cell_type": "code",
   "execution_count": 3,
   "id": "da664ffa",
   "metadata": {
    "execution": {
     "iopub.execute_input": "2022-08-28T11:14:32.546797Z",
     "iopub.status.busy": "2022-08-28T11:14:32.546043Z",
     "iopub.status.idle": "2022-08-28T11:14:32.549912Z",
     "shell.execute_reply": "2022-08-28T11:14:32.549040Z"
    },
    "papermill": {
     "duration": 0.011969,
     "end_time": "2022-08-28T11:14:32.551665",
     "exception": false,
     "start_time": "2022-08-28T11:14:32.539696",
     "status": "completed"
    },
    "tags": []
   },
   "outputs": [],
   "source": [
    "#q1.hint()\n",
    "#q1.solution()"
   ]
  },
  {
   "cell_type": "markdown",
   "id": "b9b9e54c",
   "metadata": {
    "papermill": {
     "duration": 0.005001,
     "end_time": "2022-08-28T11:14:32.561961",
     "exception": false,
     "start_time": "2022-08-28T11:14:32.556960",
     "status": "completed"
    },
    "tags": []
   },
   "source": [
    "## 2.\n",
    "What is the best wine I can buy for a given amount of money? Create a `Series` whose index is wine prices and whose values is the maximum number of points a wine costing that much was given in a review. Sort the values by price, ascending (so that `4.0` dollars is at the top and `3300.0` dollars is at the bottom)."
   ]
  },
  {
   "cell_type": "code",
   "execution_count": 4,
   "id": "635855b5",
   "metadata": {
    "execution": {
     "iopub.execute_input": "2022-08-28T11:14:32.573995Z",
     "iopub.status.busy": "2022-08-28T11:14:32.573359Z",
     "iopub.status.idle": "2022-08-28T11:14:32.586532Z",
     "shell.execute_reply": "2022-08-28T11:14:32.585682Z"
    },
    "papermill": {
     "duration": 0.02128,
     "end_time": "2022-08-28T11:14:32.588335",
     "exception": false,
     "start_time": "2022-08-28T11:14:32.567055",
     "status": "completed"
    },
    "tags": []
   },
   "outputs": [
    {
     "data": {
      "application/javascript": [
       "parent.postMessage({\"jupyterEvent\": \"custom.exercise_interaction\", \"data\": {\"outcomeType\": 1, \"valueTowardsCompletion\": 0.16666666666666666, \"interactionType\": 1, \"questionType\": 1, \"questionId\": \"2_BestRatingPerPrice\", \"learnToolsVersion\": \"0.3.4\", \"failureMessage\": \"\", \"exceptionClass\": \"\", \"trace\": \"\"}}, \"*\")"
      ],
      "text/plain": [
       "<IPython.core.display.Javascript object>"
      ]
     },
     "metadata": {},
     "output_type": "display_data"
    },
    {
     "data": {
      "text/markdown": [
       "<span style=\"color:#33cc33\">Correct</span>"
      ],
      "text/plain": [
       "Correct"
      ]
     },
     "metadata": {},
     "output_type": "display_data"
    }
   ],
   "source": [
    "best_rating_per_price = reviews.groupby('price')['points'].max().sort_index()\n",
    "\n",
    "# Check your answer\n",
    "q2.check()"
   ]
  },
  {
   "cell_type": "code",
   "execution_count": 5,
   "id": "8d9e54e4",
   "metadata": {
    "execution": {
     "iopub.execute_input": "2022-08-28T11:14:32.601544Z",
     "iopub.status.busy": "2022-08-28T11:14:32.600472Z",
     "iopub.status.idle": "2022-08-28T11:14:32.604506Z",
     "shell.execute_reply": "2022-08-28T11:14:32.603743Z"
    },
    "papermill": {
     "duration": 0.012591,
     "end_time": "2022-08-28T11:14:32.606501",
     "exception": false,
     "start_time": "2022-08-28T11:14:32.593910",
     "status": "completed"
    },
    "tags": []
   },
   "outputs": [],
   "source": [
    "#q2.hint()\n",
    "#q2.solution()"
   ]
  },
  {
   "cell_type": "markdown",
   "id": "d8b8557d",
   "metadata": {
    "papermill": {
     "duration": 0.005259,
     "end_time": "2022-08-28T11:14:32.617420",
     "exception": false,
     "start_time": "2022-08-28T11:14:32.612161",
     "status": "completed"
    },
    "tags": []
   },
   "source": [
    "## 3.\n",
    "What are the minimum and maximum prices for each `variety` of wine? Create a `DataFrame` whose index is the `variety` category from the dataset and whose values are the `min` and `max` values thereof."
   ]
  },
  {
   "cell_type": "code",
   "execution_count": 6,
   "id": "474ce0f4",
   "metadata": {
    "execution": {
     "iopub.execute_input": "2022-08-28T11:14:32.630136Z",
     "iopub.status.busy": "2022-08-28T11:14:32.629591Z",
     "iopub.status.idle": "2022-08-28T11:14:32.650148Z",
     "shell.execute_reply": "2022-08-28T11:14:32.649207Z"
    },
    "papermill": {
     "duration": 0.029099,
     "end_time": "2022-08-28T11:14:32.652046",
     "exception": false,
     "start_time": "2022-08-28T11:14:32.622947",
     "status": "completed"
    },
    "tags": []
   },
   "outputs": [
    {
     "data": {
      "application/javascript": [
       "parent.postMessage({\"jupyterEvent\": \"custom.exercise_interaction\", \"data\": {\"outcomeType\": 1, \"valueTowardsCompletion\": 0.16666666666666666, \"interactionType\": 1, \"questionType\": 1, \"questionId\": \"3_PriceExtremes\", \"learnToolsVersion\": \"0.3.4\", \"failureMessage\": \"\", \"exceptionClass\": \"\", \"trace\": \"\"}}, \"*\")"
      ],
      "text/plain": [
       "<IPython.core.display.Javascript object>"
      ]
     },
     "metadata": {},
     "output_type": "display_data"
    },
    {
     "data": {
      "text/markdown": [
       "<span style=\"color:#33cc33\">Correct</span>"
      ],
      "text/plain": [
       "Correct"
      ]
     },
     "metadata": {},
     "output_type": "display_data"
    }
   ],
   "source": [
    "price_extremes = reviews.groupby('variety').price.agg([min, max])\n",
    "\n",
    "# Check your answer\n",
    "q3.check()"
   ]
  },
  {
   "cell_type": "code",
   "execution_count": 7,
   "id": "b3ca45f2",
   "metadata": {
    "execution": {
     "iopub.execute_input": "2022-08-28T11:14:32.666299Z",
     "iopub.status.busy": "2022-08-28T11:14:32.665791Z",
     "iopub.status.idle": "2022-08-28T11:14:32.671428Z",
     "shell.execute_reply": "2022-08-28T11:14:32.670004Z"
    },
    "papermill": {
     "duration": 0.015998,
     "end_time": "2022-08-28T11:14:32.674113",
     "exception": false,
     "start_time": "2022-08-28T11:14:32.658115",
     "status": "completed"
    },
    "tags": []
   },
   "outputs": [],
   "source": [
    "#q3.hint()\n",
    "#q3.solution()"
   ]
  },
  {
   "cell_type": "markdown",
   "id": "c18cb20f",
   "metadata": {
    "papermill": {
     "duration": 0.005444,
     "end_time": "2022-08-28T11:14:32.686358",
     "exception": false,
     "start_time": "2022-08-28T11:14:32.680914",
     "status": "completed"
    },
    "tags": []
   },
   "source": [
    "## 4.\n",
    "What are the most expensive wine varieties? Create a variable `sorted_varieties` containing a copy of the dataframe from the previous question where varieties are sorted in descending order based on minimum price, then on maximum price (to break ties)."
   ]
  },
  {
   "cell_type": "code",
   "execution_count": 8,
   "id": "164e9198",
   "metadata": {
    "execution": {
     "iopub.execute_input": "2022-08-28T11:14:32.699671Z",
     "iopub.status.busy": "2022-08-28T11:14:32.699290Z",
     "iopub.status.idle": "2022-08-28T11:14:32.710642Z",
     "shell.execute_reply": "2022-08-28T11:14:32.709571Z"
    },
    "papermill": {
     "duration": 0.021271,
     "end_time": "2022-08-28T11:14:32.713385",
     "exception": false,
     "start_time": "2022-08-28T11:14:32.692114",
     "status": "completed"
    },
    "tags": []
   },
   "outputs": [
    {
     "data": {
      "application/javascript": [
       "parent.postMessage({\"jupyterEvent\": \"custom.exercise_interaction\", \"data\": {\"outcomeType\": 1, \"valueTowardsCompletion\": 0.16666666666666666, \"interactionType\": 1, \"questionType\": 1, \"questionId\": \"4_SortedVarieties\", \"learnToolsVersion\": \"0.3.4\", \"failureMessage\": \"\", \"exceptionClass\": \"\", \"trace\": \"\"}}, \"*\")"
      ],
      "text/plain": [
       "<IPython.core.display.Javascript object>"
      ]
     },
     "metadata": {},
     "output_type": "display_data"
    },
    {
     "data": {
      "text/markdown": [
       "<span style=\"color:#33cc33\">Correct</span>"
      ],
      "text/plain": [
       "Correct"
      ]
     },
     "metadata": {},
     "output_type": "display_data"
    }
   ],
   "source": [
    "sorted_varieties = price_extremes.sort_values(by=['min', 'max'], ascending=False)\n",
    "\n",
    "# Check your answer\n",
    "q4.check()"
   ]
  },
  {
   "cell_type": "code",
   "execution_count": 9,
   "id": "f7ccf23a",
   "metadata": {
    "execution": {
     "iopub.execute_input": "2022-08-28T11:14:32.727563Z",
     "iopub.status.busy": "2022-08-28T11:14:32.727181Z",
     "iopub.status.idle": "2022-08-28T11:14:32.731034Z",
     "shell.execute_reply": "2022-08-28T11:14:32.730284Z"
    },
    "papermill": {
     "duration": 0.013168,
     "end_time": "2022-08-28T11:14:32.732905",
     "exception": false,
     "start_time": "2022-08-28T11:14:32.719737",
     "status": "completed"
    },
    "tags": []
   },
   "outputs": [],
   "source": [
    "#q4.hint()\n",
    "#q4.solution()"
   ]
  },
  {
   "cell_type": "markdown",
   "id": "3a3463f0",
   "metadata": {
    "papermill": {
     "duration": 0.00571,
     "end_time": "2022-08-28T11:14:32.744854",
     "exception": false,
     "start_time": "2022-08-28T11:14:32.739144",
     "status": "completed"
    },
    "tags": []
   },
   "source": [
    "## 5.\n",
    "Create a `Series` whose index is reviewers and whose values is the average review score given out by that reviewer. Hint: you will need the `taster_name` and `points` columns."
   ]
  },
  {
   "cell_type": "code",
   "execution_count": 10,
   "id": "2943487b",
   "metadata": {
    "execution": {
     "iopub.execute_input": "2022-08-28T11:14:32.758541Z",
     "iopub.status.busy": "2022-08-28T11:14:32.758115Z",
     "iopub.status.idle": "2022-08-28T11:14:32.778716Z",
     "shell.execute_reply": "2022-08-28T11:14:32.777608Z"
    },
    "papermill": {
     "duration": 0.030421,
     "end_time": "2022-08-28T11:14:32.781472",
     "exception": false,
     "start_time": "2022-08-28T11:14:32.751051",
     "status": "completed"
    },
    "tags": []
   },
   "outputs": [
    {
     "data": {
      "application/javascript": [
       "parent.postMessage({\"jupyterEvent\": \"custom.exercise_interaction\", \"data\": {\"outcomeType\": 1, \"valueTowardsCompletion\": 0.16666666666666666, \"interactionType\": 1, \"questionType\": 1, \"questionId\": \"5_ReviewerMeanRatings\", \"learnToolsVersion\": \"0.3.4\", \"failureMessage\": \"\", \"exceptionClass\": \"\", \"trace\": \"\"}}, \"*\")"
      ],
      "text/plain": [
       "<IPython.core.display.Javascript object>"
      ]
     },
     "metadata": {},
     "output_type": "display_data"
    },
    {
     "data": {
      "text/markdown": [
       "<span style=\"color:#33cc33\">Correct</span>"
      ],
      "text/plain": [
       "Correct"
      ]
     },
     "metadata": {},
     "output_type": "display_data"
    }
   ],
   "source": [
    "reviewer_mean_ratings = reviews.groupby('taster_name').points.mean()\n",
    "\n",
    "# Check your answer\n",
    "q5.check()"
   ]
  },
  {
   "cell_type": "code",
   "execution_count": 11,
   "id": "06ab55d0",
   "metadata": {
    "execution": {
     "iopub.execute_input": "2022-08-28T11:14:32.795956Z",
     "iopub.status.busy": "2022-08-28T11:14:32.795526Z",
     "iopub.status.idle": "2022-08-28T11:14:32.801052Z",
     "shell.execute_reply": "2022-08-28T11:14:32.799654Z"
    },
    "papermill": {
     "duration": 0.015427,
     "end_time": "2022-08-28T11:14:32.803309",
     "exception": false,
     "start_time": "2022-08-28T11:14:32.787882",
     "status": "completed"
    },
    "tags": []
   },
   "outputs": [],
   "source": [
    "#q5.hint()\n",
    "#q5.solution()"
   ]
  },
  {
   "cell_type": "markdown",
   "id": "549b9b62",
   "metadata": {
    "papermill": {
     "duration": 0.005797,
     "end_time": "2022-08-28T11:14:32.815491",
     "exception": false,
     "start_time": "2022-08-28T11:14:32.809694",
     "status": "completed"
    },
    "tags": []
   },
   "source": [
    "Are there significant differences in the average scores assigned by the various reviewers? Run the cell below to use the `describe()` method to see a summary of the range of values."
   ]
  },
  {
   "cell_type": "code",
   "execution_count": 12,
   "id": "f100b0ec",
   "metadata": {
    "execution": {
     "iopub.execute_input": "2022-08-28T11:14:32.829103Z",
     "iopub.status.busy": "2022-08-28T11:14:32.828704Z",
     "iopub.status.idle": "2022-08-28T11:14:32.840464Z",
     "shell.execute_reply": "2022-08-28T11:14:32.839386Z"
    },
    "papermill": {
     "duration": 0.0209,
     "end_time": "2022-08-28T11:14:32.842354",
     "exception": false,
     "start_time": "2022-08-28T11:14:32.821454",
     "status": "completed"
    },
    "tags": []
   },
   "outputs": [
    {
     "data": {
      "text/plain": [
       "count    19.000000\n",
       "mean     88.233026\n",
       "std       1.243610\n",
       "min      85.855422\n",
       "25%      87.323501\n",
       "50%      88.536235\n",
       "75%      88.975256\n",
       "max      90.562551\n",
       "Name: points, dtype: float64"
      ]
     },
     "execution_count": 12,
     "metadata": {},
     "output_type": "execute_result"
    }
   ],
   "source": [
    "reviewer_mean_ratings.describe()"
   ]
  },
  {
   "cell_type": "markdown",
   "id": "8ae9b6eb",
   "metadata": {
    "papermill": {
     "duration": 0.005904,
     "end_time": "2022-08-28T11:14:32.854695",
     "exception": false,
     "start_time": "2022-08-28T11:14:32.848791",
     "status": "completed"
    },
    "tags": []
   },
   "source": [
    "## 6.\n",
    "What combination of countries and varieties are most common? Create a `Series` whose index is a `MultiIndex`of `{country, variety}` pairs. For example, a pinot noir produced in the US should map to `{\"US\", \"Pinot Noir\"}`. Sort the values in the `Series` in descending order based on wine count."
   ]
  },
  {
   "cell_type": "code",
   "execution_count": 13,
   "id": "af59b488",
   "metadata": {
    "execution": {
     "iopub.execute_input": "2022-08-28T11:14:32.868576Z",
     "iopub.status.busy": "2022-08-28T11:14:32.868171Z",
     "iopub.status.idle": "2022-08-28T11:14:32.897624Z",
     "shell.execute_reply": "2022-08-28T11:14:32.896853Z"
    },
    "papermill": {
     "duration": 0.038481,
     "end_time": "2022-08-28T11:14:32.899228",
     "exception": false,
     "start_time": "2022-08-28T11:14:32.860747",
     "status": "completed"
    },
    "tags": []
   },
   "outputs": [
    {
     "data": {
      "application/javascript": [
       "parent.postMessage({\"jupyterEvent\": \"custom.exercise_interaction\", \"data\": {\"outcomeType\": 1, \"valueTowardsCompletion\": 0.16666666666666666, \"interactionType\": 1, \"questionType\": 1, \"questionId\": \"6_GroupbyCountryVariety\", \"learnToolsVersion\": \"0.3.4\", \"failureMessage\": \"\", \"exceptionClass\": \"\", \"trace\": \"\"}}, \"*\")"
      ],
      "text/plain": [
       "<IPython.core.display.Javascript object>"
      ]
     },
     "metadata": {},
     "output_type": "display_data"
    },
    {
     "data": {
      "text/markdown": [
       "<span style=\"color:#33cc33\">Correct</span>"
      ],
      "text/plain": [
       "Correct"
      ]
     },
     "metadata": {},
     "output_type": "display_data"
    }
   ],
   "source": [
    "country_variety_counts = reviews.groupby(['country', 'variety']).size().sort_values(ascending=False)\n",
    "\n",
    "# Check your answer\n",
    "q6.check()"
   ]
  },
  {
   "cell_type": "code",
   "execution_count": 14,
   "id": "467b5be4",
   "metadata": {
    "execution": {
     "iopub.execute_input": "2022-08-28T11:14:32.913342Z",
     "iopub.status.busy": "2022-08-28T11:14:32.912983Z",
     "iopub.status.idle": "2022-08-28T11:14:32.916516Z",
     "shell.execute_reply": "2022-08-28T11:14:32.915612Z"
    },
    "papermill": {
     "duration": 0.012598,
     "end_time": "2022-08-28T11:14:32.918277",
     "exception": false,
     "start_time": "2022-08-28T11:14:32.905679",
     "status": "completed"
    },
    "tags": []
   },
   "outputs": [],
   "source": [
    "#q6.hint()\n",
    "#q6.solution()"
   ]
  },
  {
   "cell_type": "markdown",
   "id": "dd88bbb5",
   "metadata": {
    "papermill": {
     "duration": 0.006076,
     "end_time": "2022-08-28T11:14:32.930866",
     "exception": false,
     "start_time": "2022-08-28T11:14:32.924790",
     "status": "completed"
    },
    "tags": []
   },
   "source": [
    "# Keep going\n",
    "\n",
    "Move on to the [**data types and missing data**](https://www.kaggle.com/residentmario/data-types-and-missing-values)."
   ]
  },
  {
   "cell_type": "markdown",
   "id": "b66d0392",
   "metadata": {
    "papermill": {
     "duration": 0.006064,
     "end_time": "2022-08-28T11:14:32.943293",
     "exception": false,
     "start_time": "2022-08-28T11:14:32.937229",
     "status": "completed"
    },
    "tags": []
   },
   "source": [
    "---\n",
    "\n",
    "\n",
    "\n",
    "\n",
    "*Have questions or comments? Visit the [course discussion forum](https://www.kaggle.com/learn/pandas/discussion) to chat with other learners.*"
   ]
  }
 ],
 "metadata": {
  "kernelspec": {
   "display_name": "Python 3",
   "language": "python",
   "name": "python3"
  },
  "language_info": {
   "codemirror_mode": {
    "name": "ipython",
    "version": 3
   },
   "file_extension": ".py",
   "mimetype": "text/x-python",
   "name": "python",
   "nbconvert_exporter": "python",
   "pygments_lexer": "ipython3",
   "version": "3.7.12"
  },
  "papermill": {
   "default_parameters": {},
   "duration": 12.047135,
   "end_time": "2022-08-28T11:14:33.671509",
   "environment_variables": {},
   "exception": null,
   "input_path": "__notebook__.ipynb",
   "output_path": "__notebook__.ipynb",
   "parameters": {},
   "start_time": "2022-08-28T11:14:21.624374",
   "version": "2.3.4"
  }
 },
 "nbformat": 4,
 "nbformat_minor": 5
}
