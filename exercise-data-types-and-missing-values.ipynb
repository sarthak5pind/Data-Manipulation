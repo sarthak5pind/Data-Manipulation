{
 "cells": [
  {
   "cell_type": "markdown",
   "id": "b50a7a57",
   "metadata": {
    "papermill": {
     "duration": 0.005411,
     "end_time": "2022-08-28T11:24:45.937124",
     "exception": false,
     "start_time": "2022-08-28T11:24:45.931713",
     "status": "completed"
    },
    "tags": []
   },
   "source": [
    "**This notebook is an exercise in the [Pandas](https://www.kaggle.com/learn/pandas) course.  You can reference the tutorial at [this link](https://www.kaggle.com/residentmario/data-types-and-missing-values).**\n",
    "\n",
    "---\n"
   ]
  },
  {
   "cell_type": "markdown",
   "id": "92470318",
   "metadata": {
    "papermill": {
     "duration": 0.004045,
     "end_time": "2022-08-28T11:24:45.945714",
     "exception": false,
     "start_time": "2022-08-28T11:24:45.941669",
     "status": "completed"
    },
    "tags": []
   },
   "source": [
    "# Introduction\n",
    "\n",
    "Run the following cell to load your data and some utility functions."
   ]
  },
  {
   "cell_type": "code",
   "execution_count": 1,
   "id": "df90082f",
   "metadata": {
    "execution": {
     "iopub.execute_input": "2022-08-28T11:24:45.956580Z",
     "iopub.status.busy": "2022-08-28T11:24:45.955827Z",
     "iopub.status.idle": "2022-08-28T11:24:48.827737Z",
     "shell.execute_reply": "2022-08-28T11:24:48.826475Z"
    },
    "papermill": {
     "duration": 2.880635,
     "end_time": "2022-08-28T11:24:48.830607",
     "exception": false,
     "start_time": "2022-08-28T11:24:45.949972",
     "status": "completed"
    },
    "tags": []
   },
   "outputs": [
    {
     "name": "stdout",
     "output_type": "stream",
     "text": [
      "Setup complete.\n"
     ]
    }
   ],
   "source": [
    "import pandas as pd\n",
    "\n",
    "reviews = pd.read_csv(\"../input/wine-reviews/winemag-data-130k-v2.csv\", index_col=0)\n",
    "\n",
    "from learntools.core import binder; binder.bind(globals())\n",
    "from learntools.pandas.data_types_and_missing_data import *\n",
    "print(\"Setup complete.\")"
   ]
  },
  {
   "cell_type": "markdown",
   "id": "ba2ae99d",
   "metadata": {
    "papermill": {
     "duration": 0.004227,
     "end_time": "2022-08-28T11:24:48.840056",
     "exception": false,
     "start_time": "2022-08-28T11:24:48.835829",
     "status": "completed"
    },
    "tags": []
   },
   "source": [
    "# Exercises"
   ]
  },
  {
   "cell_type": "markdown",
   "id": "0f90f081",
   "metadata": {
    "papermill": {
     "duration": 0.004103,
     "end_time": "2022-08-28T11:24:48.848673",
     "exception": false,
     "start_time": "2022-08-28T11:24:48.844570",
     "status": "completed"
    },
    "tags": []
   },
   "source": [
    "## 1. \n",
    "What is the data type of the `points` column in the dataset?"
   ]
  },
  {
   "cell_type": "code",
   "execution_count": 2,
   "id": "6105400f",
   "metadata": {
    "execution": {
     "iopub.execute_input": "2022-08-28T11:24:48.862321Z",
     "iopub.status.busy": "2022-08-28T11:24:48.861237Z",
     "iopub.status.idle": "2022-08-28T11:24:48.881231Z",
     "shell.execute_reply": "2022-08-28T11:24:48.880266Z"
    },
    "papermill": {
     "duration": 0.029955,
     "end_time": "2022-08-28T11:24:48.884121",
     "exception": false,
     "start_time": "2022-08-28T11:24:48.854166",
     "status": "completed"
    },
    "tags": []
   },
   "outputs": [
    {
     "data": {
      "application/javascript": [
       "parent.postMessage({\"jupyterEvent\": \"custom.exercise_interaction\", \"data\": {\"outcomeType\": 1, \"valueTowardsCompletion\": 0.25, \"interactionType\": 1, \"questionType\": 1, \"questionId\": \"1_PointsDtype\", \"learnToolsVersion\": \"0.3.4\", \"failureMessage\": \"\", \"exceptionClass\": \"\", \"trace\": \"\"}}, \"*\")"
      ],
      "text/plain": [
       "<IPython.core.display.Javascript object>"
      ]
     },
     "metadata": {},
     "output_type": "display_data"
    },
    {
     "data": {
      "text/markdown": [
       "<span style=\"color:#33cc33\">Correct</span>"
      ],
      "text/plain": [
       "Correct"
      ]
     },
     "metadata": {},
     "output_type": "display_data"
    }
   ],
   "source": [
    "# Your code here\n",
    "dtype = reviews.points.dtype\n",
    "\n",
    "# Check your answer\n",
    "q1.check()"
   ]
  },
  {
   "cell_type": "code",
   "execution_count": 3,
   "id": "0afc7182",
   "metadata": {
    "execution": {
     "iopub.execute_input": "2022-08-28T11:24:48.900911Z",
     "iopub.status.busy": "2022-08-28T11:24:48.900129Z",
     "iopub.status.idle": "2022-08-28T11:24:48.906524Z",
     "shell.execute_reply": "2022-08-28T11:24:48.905307Z"
    },
    "papermill": {
     "duration": 0.019194,
     "end_time": "2022-08-28T11:24:48.910437",
     "exception": false,
     "start_time": "2022-08-28T11:24:48.891243",
     "status": "completed"
    },
    "tags": []
   },
   "outputs": [],
   "source": [
    "#q1.hint()\n",
    "#q1.solution()"
   ]
  },
  {
   "cell_type": "markdown",
   "id": "7bbf0c4a",
   "metadata": {
    "papermill": {
     "duration": 0.006735,
     "end_time": "2022-08-28T11:24:48.924142",
     "exception": false,
     "start_time": "2022-08-28T11:24:48.917407",
     "status": "completed"
    },
    "tags": []
   },
   "source": [
    "## 2. \n",
    "Create a Series from entries in the `points` column, but convert the entries to strings. Hint: strings are `str` in native Python."
   ]
  },
  {
   "cell_type": "code",
   "execution_count": 4,
   "id": "abf4e419",
   "metadata": {
    "execution": {
     "iopub.execute_input": "2022-08-28T11:24:48.937886Z",
     "iopub.status.busy": "2022-08-28T11:24:48.937423Z",
     "iopub.status.idle": "2022-08-28T11:24:49.035454Z",
     "shell.execute_reply": "2022-08-28T11:24:49.034386Z"
    },
    "papermill": {
     "duration": 0.107871,
     "end_time": "2022-08-28T11:24:49.037837",
     "exception": false,
     "start_time": "2022-08-28T11:24:48.929966",
     "status": "completed"
    },
    "tags": []
   },
   "outputs": [
    {
     "data": {
      "application/javascript": [
       "parent.postMessage({\"jupyterEvent\": \"custom.exercise_interaction\", \"data\": {\"outcomeType\": 1, \"valueTowardsCompletion\": 0.25, \"interactionType\": 1, \"questionType\": 1, \"questionId\": \"2_StrPoints\", \"learnToolsVersion\": \"0.3.4\", \"failureMessage\": \"\", \"exceptionClass\": \"\", \"trace\": \"\"}}, \"*\")"
      ],
      "text/plain": [
       "<IPython.core.display.Javascript object>"
      ]
     },
     "metadata": {},
     "output_type": "display_data"
    },
    {
     "data": {
      "text/markdown": [
       "<span style=\"color:#33cc33\">Correct</span>"
      ],
      "text/plain": [
       "Correct"
      ]
     },
     "metadata": {},
     "output_type": "display_data"
    }
   ],
   "source": [
    "point_strings = reviews.points.astype(str)\n",
    "\n",
    "# Check your answer\n",
    "q2.check()"
   ]
  },
  {
   "cell_type": "code",
   "execution_count": 5,
   "id": "defa13e2",
   "metadata": {
    "execution": {
     "iopub.execute_input": "2022-08-28T11:24:49.049835Z",
     "iopub.status.busy": "2022-08-28T11:24:49.049397Z",
     "iopub.status.idle": "2022-08-28T11:24:49.053927Z",
     "shell.execute_reply": "2022-08-28T11:24:49.052659Z"
    },
    "papermill": {
     "duration": 0.013281,
     "end_time": "2022-08-28T11:24:49.056240",
     "exception": false,
     "start_time": "2022-08-28T11:24:49.042959",
     "status": "completed"
    },
    "tags": []
   },
   "outputs": [],
   "source": [
    "#q2.hint()\n",
    "#q2.solution()"
   ]
  },
  {
   "cell_type": "markdown",
   "id": "37099084",
   "metadata": {
    "papermill": {
     "duration": 0.004589,
     "end_time": "2022-08-28T11:24:49.066248",
     "exception": false,
     "start_time": "2022-08-28T11:24:49.061659",
     "status": "completed"
    },
    "tags": []
   },
   "source": [
    "## 3.\n",
    "Sometimes the price column is null. How many reviews in the dataset are missing a price?"
   ]
  },
  {
   "cell_type": "code",
   "execution_count": 6,
   "id": "fa0a5521",
   "metadata": {
    "execution": {
     "iopub.execute_input": "2022-08-28T11:24:49.077969Z",
     "iopub.status.busy": "2022-08-28T11:24:49.077552Z",
     "iopub.status.idle": "2022-08-28T11:24:49.097934Z",
     "shell.execute_reply": "2022-08-28T11:24:49.096831Z"
    },
    "papermill": {
     "duration": 0.029063,
     "end_time": "2022-08-28T11:24:49.100266",
     "exception": false,
     "start_time": "2022-08-28T11:24:49.071203",
     "status": "completed"
    },
    "tags": []
   },
   "outputs": [
    {
     "data": {
      "application/javascript": [
       "parent.postMessage({\"jupyterEvent\": \"custom.exercise_interaction\", \"data\": {\"outcomeType\": 1, \"valueTowardsCompletion\": 0.25, \"interactionType\": 1, \"questionType\": 1, \"questionId\": \"3_CountMissingPrices\", \"learnToolsVersion\": \"0.3.4\", \"failureMessage\": \"\", \"exceptionClass\": \"\", \"trace\": \"\"}}, \"*\")"
      ],
      "text/plain": [
       "<IPython.core.display.Javascript object>"
      ]
     },
     "metadata": {},
     "output_type": "display_data"
    },
    {
     "data": {
      "text/markdown": [
       "<span style=\"color:#33cc33\">Correct</span>"
      ],
      "text/plain": [
       "Correct"
      ]
     },
     "metadata": {},
     "output_type": "display_data"
    }
   ],
   "source": [
    "missing_price_reviews = reviews[reviews.price.isnull()]\n",
    "n_missing_prices = len(missing_price_reviews)\n",
    "n_missing_prices = reviews.price.isnull().sum()\n",
    "n_missing_prices = pd.isnull(reviews.price).sum()\n",
    "\n",
    "# Check your answer\n",
    "q3.check()"
   ]
  },
  {
   "cell_type": "code",
   "execution_count": 7,
   "id": "47e489a8",
   "metadata": {
    "execution": {
     "iopub.execute_input": "2022-08-28T11:24:49.112839Z",
     "iopub.status.busy": "2022-08-28T11:24:49.111861Z",
     "iopub.status.idle": "2022-08-28T11:24:49.116515Z",
     "shell.execute_reply": "2022-08-28T11:24:49.115427Z"
    },
    "papermill": {
     "duration": 0.013591,
     "end_time": "2022-08-28T11:24:49.118961",
     "exception": false,
     "start_time": "2022-08-28T11:24:49.105370",
     "status": "completed"
    },
    "tags": []
   },
   "outputs": [],
   "source": [
    "#q3.hint()\n",
    "#q3.solution()"
   ]
  },
  {
   "cell_type": "markdown",
   "id": "9d81c7e3",
   "metadata": {
    "papermill": {
     "duration": 0.004814,
     "end_time": "2022-08-28T11:24:49.129155",
     "exception": false,
     "start_time": "2022-08-28T11:24:49.124341",
     "status": "completed"
    },
    "tags": []
   },
   "source": [
    "## 4.\n",
    "What are the most common wine-producing regions? Create a Series counting the number of times each value occurs in the `region_1` field. This field is often missing data, so replace missing values with `Unknown`. Sort in descending order.  Your output should look something like this:\n",
    "\n",
    "```\n",
    "Unknown                    21247\n",
    "Napa Valley                 4480\n",
    "                           ...  \n",
    "Bardolino Superiore            1\n",
    "Primitivo del Tarantino        1\n",
    "Name: region_1, Length: 1230, dtype: int64\n",
    "```"
   ]
  },
  {
   "cell_type": "code",
   "execution_count": 8,
   "id": "5938e2fa",
   "metadata": {
    "execution": {
     "iopub.execute_input": "2022-08-28T11:24:49.141630Z",
     "iopub.status.busy": "2022-08-28T11:24:49.140829Z",
     "iopub.status.idle": "2022-08-28T11:24:49.183934Z",
     "shell.execute_reply": "2022-08-28T11:24:49.182783Z"
    },
    "papermill": {
     "duration": 0.052121,
     "end_time": "2022-08-28T11:24:49.186360",
     "exception": false,
     "start_time": "2022-08-28T11:24:49.134239",
     "status": "completed"
    },
    "tags": []
   },
   "outputs": [
    {
     "data": {
      "application/javascript": [
       "parent.postMessage({\"jupyterEvent\": \"custom.exercise_interaction\", \"data\": {\"outcomeType\": 1, \"valueTowardsCompletion\": 0.25, \"interactionType\": 1, \"questionType\": 2, \"questionId\": \"4_ReviewsPerRegion\", \"learnToolsVersion\": \"0.3.4\", \"failureMessage\": \"\", \"exceptionClass\": \"\", \"trace\": \"\"}}, \"*\")"
      ],
      "text/plain": [
       "<IPython.core.display.Javascript object>"
      ]
     },
     "metadata": {},
     "output_type": "display_data"
    },
    {
     "data": {
      "text/markdown": [
       "<span style=\"color:#33cc33\">Correct</span>"
      ],
      "text/plain": [
       "Correct"
      ]
     },
     "metadata": {},
     "output_type": "display_data"
    }
   ],
   "source": [
    "reviews_per_region = reviews.region_1.fillna('Unknown').value_counts().sort_values(ascending=False)\n",
    "\n",
    "# Check your answer\n",
    "q4.check()"
   ]
  },
  {
   "cell_type": "code",
   "execution_count": 9,
   "id": "0ba100ed",
   "metadata": {
    "execution": {
     "iopub.execute_input": "2022-08-28T11:24:49.199207Z",
     "iopub.status.busy": "2022-08-28T11:24:49.198369Z",
     "iopub.status.idle": "2022-08-28T11:24:49.204480Z",
     "shell.execute_reply": "2022-08-28T11:24:49.203649Z"
    },
    "papermill": {
     "duration": 0.015291,
     "end_time": "2022-08-28T11:24:49.207008",
     "exception": false,
     "start_time": "2022-08-28T11:24:49.191717",
     "status": "completed"
    },
    "tags": []
   },
   "outputs": [],
   "source": [
    "#q4.hint()\n",
    "#q4.solution()"
   ]
  },
  {
   "cell_type": "markdown",
   "id": "d7cab706",
   "metadata": {
    "papermill": {
     "duration": 0.005345,
     "end_time": "2022-08-28T11:24:49.218339",
     "exception": false,
     "start_time": "2022-08-28T11:24:49.212994",
     "status": "completed"
    },
    "tags": []
   },
   "source": [
    "# Keep going\n",
    "\n",
    "Move on to **[renaming and combining](https://www.kaggle.com/residentmario/renaming-and-combining)**."
   ]
  },
  {
   "cell_type": "markdown",
   "id": "771f9f8a",
   "metadata": {
    "papermill": {
     "duration": 0.005115,
     "end_time": "2022-08-28T11:24:49.229276",
     "exception": false,
     "start_time": "2022-08-28T11:24:49.224161",
     "status": "completed"
    },
    "tags": []
   },
   "source": [
    "---\n",
    "\n",
    "\n",
    "\n",
    "\n",
    "*Have questions or comments? Visit the [course discussion forum](https://www.kaggle.com/learn/pandas/discussion) to chat with other learners.*"
   ]
  }
 ],
 "metadata": {
  "kernelspec": {
   "display_name": "Python 3",
   "language": "python",
   "name": "python3"
  },
  "language_info": {
   "codemirror_mode": {
    "name": "ipython",
    "version": 3
   },
   "file_extension": ".py",
   "mimetype": "text/x-python",
   "name": "python",
   "nbconvert_exporter": "python",
   "pygments_lexer": "ipython3",
   "version": "3.7.12"
  },
  "papermill": {
   "default_parameters": {},
   "duration": 13.018593,
   "end_time": "2022-08-28T11:24:49.955709",
   "environment_variables": {},
   "exception": null,
   "input_path": "__notebook__.ipynb",
   "output_path": "__notebook__.ipynb",
   "parameters": {},
   "start_time": "2022-08-28T11:24:36.937116",
   "version": "2.3.4"
  }
 },
 "nbformat": 4,
 "nbformat_minor": 5
}
