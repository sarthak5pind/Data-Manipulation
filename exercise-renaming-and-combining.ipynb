{
 "cells": [
  {
   "cell_type": "markdown",
   "id": "c7489979",
   "metadata": {
    "papermill": {
     "duration": 0.00601,
     "end_time": "2022-08-28T11:38:06.615821",
     "exception": false,
     "start_time": "2022-08-28T11:38:06.609811",
     "status": "completed"
    },
    "tags": []
   },
   "source": [
    "**This notebook is an exercise in the [Pandas](https://www.kaggle.com/learn/pandas) course.  You can reference the tutorial at [this link](https://www.kaggle.com/residentmario/renaming-and-combining).**\n",
    "\n",
    "---\n"
   ]
  },
  {
   "cell_type": "markdown",
   "id": "d498e0e3",
   "metadata": {
    "papermill": {
     "duration": 0.004333,
     "end_time": "2022-08-28T11:38:06.624996",
     "exception": false,
     "start_time": "2022-08-28T11:38:06.620663",
     "status": "completed"
    },
    "tags": []
   },
   "source": [
    "# Introduction\n",
    "\n",
    "Run the following cell to load your data and some utility functions."
   ]
  },
  {
   "cell_type": "code",
   "execution_count": 1,
   "id": "c869ff83",
   "metadata": {
    "execution": {
     "iopub.execute_input": "2022-08-28T11:38:06.636887Z",
     "iopub.status.busy": "2022-08-28T11:38:06.635929Z",
     "iopub.status.idle": "2022-08-28T11:38:10.123666Z",
     "shell.execute_reply": "2022-08-28T11:38:10.122602Z"
    },
    "papermill": {
     "duration": 3.496474,
     "end_time": "2022-08-28T11:38:10.126137",
     "exception": false,
     "start_time": "2022-08-28T11:38:06.629663",
     "status": "completed"
    },
    "tags": []
   },
   "outputs": [
    {
     "name": "stdout",
     "output_type": "stream",
     "text": [
      "Setup complete.\n"
     ]
    }
   ],
   "source": [
    "import pandas as pd\n",
    "\n",
    "reviews = pd.read_csv(\"../input/wine-reviews/winemag-data-130k-v2.csv\", index_col=0)\n",
    "\n",
    "from learntools.core import binder; binder.bind(globals())\n",
    "from learntools.pandas.renaming_and_combining import *\n",
    "print(\"Setup complete.\")"
   ]
  },
  {
   "cell_type": "markdown",
   "id": "7827a1eb",
   "metadata": {
    "papermill": {
     "duration": 0.004545,
     "end_time": "2022-08-28T11:38:10.135506",
     "exception": false,
     "start_time": "2022-08-28T11:38:10.130961",
     "status": "completed"
    },
    "tags": []
   },
   "source": [
    "# Exercises\n",
    "\n",
    "View the first several lines of your data by running the cell below:"
   ]
  },
  {
   "cell_type": "code",
   "execution_count": 2,
   "id": "29ff68c9",
   "metadata": {
    "execution": {
     "iopub.execute_input": "2022-08-28T11:38:10.145868Z",
     "iopub.status.busy": "2022-08-28T11:38:10.145524Z",
     "iopub.status.idle": "2022-08-28T11:38:10.165646Z",
     "shell.execute_reply": "2022-08-28T11:38:10.164912Z"
    },
    "papermill": {
     "duration": 0.027506,
     "end_time": "2022-08-28T11:38:10.167540",
     "exception": false,
     "start_time": "2022-08-28T11:38:10.140034",
     "status": "completed"
    },
    "tags": []
   },
   "outputs": [
    {
     "data": {
      "text/html": [
       "<div>\n",
       "<style scoped>\n",
       "    .dataframe tbody tr th:only-of-type {\n",
       "        vertical-align: middle;\n",
       "    }\n",
       "\n",
       "    .dataframe tbody tr th {\n",
       "        vertical-align: top;\n",
       "    }\n",
       "\n",
       "    .dataframe thead th {\n",
       "        text-align: right;\n",
       "    }\n",
       "</style>\n",
       "<table border=\"1\" class=\"dataframe\">\n",
       "  <thead>\n",
       "    <tr style=\"text-align: right;\">\n",
       "      <th></th>\n",
       "      <th>country</th>\n",
       "      <th>description</th>\n",
       "      <th>designation</th>\n",
       "      <th>points</th>\n",
       "      <th>price</th>\n",
       "      <th>province</th>\n",
       "      <th>region_1</th>\n",
       "      <th>region_2</th>\n",
       "      <th>taster_name</th>\n",
       "      <th>taster_twitter_handle</th>\n",
       "      <th>title</th>\n",
       "      <th>variety</th>\n",
       "      <th>winery</th>\n",
       "    </tr>\n",
       "  </thead>\n",
       "  <tbody>\n",
       "    <tr>\n",
       "      <th>0</th>\n",
       "      <td>Italy</td>\n",
       "      <td>Aromas include tropical fruit, broom, brimston...</td>\n",
       "      <td>Vulkà Bianco</td>\n",
       "      <td>87</td>\n",
       "      <td>NaN</td>\n",
       "      <td>Sicily &amp; Sardinia</td>\n",
       "      <td>Etna</td>\n",
       "      <td>NaN</td>\n",
       "      <td>Kerin O’Keefe</td>\n",
       "      <td>@kerinokeefe</td>\n",
       "      <td>Nicosia 2013 Vulkà Bianco  (Etna)</td>\n",
       "      <td>White Blend</td>\n",
       "      <td>Nicosia</td>\n",
       "    </tr>\n",
       "    <tr>\n",
       "      <th>1</th>\n",
       "      <td>Portugal</td>\n",
       "      <td>This is ripe and fruity, a wine that is smooth...</td>\n",
       "      <td>Avidagos</td>\n",
       "      <td>87</td>\n",
       "      <td>15.0</td>\n",
       "      <td>Douro</td>\n",
       "      <td>NaN</td>\n",
       "      <td>NaN</td>\n",
       "      <td>Roger Voss</td>\n",
       "      <td>@vossroger</td>\n",
       "      <td>Quinta dos Avidagos 2011 Avidagos Red (Douro)</td>\n",
       "      <td>Portuguese Red</td>\n",
       "      <td>Quinta dos Avidagos</td>\n",
       "    </tr>\n",
       "    <tr>\n",
       "      <th>2</th>\n",
       "      <td>US</td>\n",
       "      <td>Tart and snappy, the flavors of lime flesh and...</td>\n",
       "      <td>NaN</td>\n",
       "      <td>87</td>\n",
       "      <td>14.0</td>\n",
       "      <td>Oregon</td>\n",
       "      <td>Willamette Valley</td>\n",
       "      <td>Willamette Valley</td>\n",
       "      <td>Paul Gregutt</td>\n",
       "      <td>@paulgwine</td>\n",
       "      <td>Rainstorm 2013 Pinot Gris (Willamette Valley)</td>\n",
       "      <td>Pinot Gris</td>\n",
       "      <td>Rainstorm</td>\n",
       "    </tr>\n",
       "    <tr>\n",
       "      <th>3</th>\n",
       "      <td>US</td>\n",
       "      <td>Pineapple rind, lemon pith and orange blossom ...</td>\n",
       "      <td>Reserve Late Harvest</td>\n",
       "      <td>87</td>\n",
       "      <td>13.0</td>\n",
       "      <td>Michigan</td>\n",
       "      <td>Lake Michigan Shore</td>\n",
       "      <td>NaN</td>\n",
       "      <td>Alexander Peartree</td>\n",
       "      <td>NaN</td>\n",
       "      <td>St. Julian 2013 Reserve Late Harvest Riesling ...</td>\n",
       "      <td>Riesling</td>\n",
       "      <td>St. Julian</td>\n",
       "    </tr>\n",
       "    <tr>\n",
       "      <th>4</th>\n",
       "      <td>US</td>\n",
       "      <td>Much like the regular bottling from 2012, this...</td>\n",
       "      <td>Vintner's Reserve Wild Child Block</td>\n",
       "      <td>87</td>\n",
       "      <td>65.0</td>\n",
       "      <td>Oregon</td>\n",
       "      <td>Willamette Valley</td>\n",
       "      <td>Willamette Valley</td>\n",
       "      <td>Paul Gregutt</td>\n",
       "      <td>@paulgwine</td>\n",
       "      <td>Sweet Cheeks 2012 Vintner's Reserve Wild Child...</td>\n",
       "      <td>Pinot Noir</td>\n",
       "      <td>Sweet Cheeks</td>\n",
       "    </tr>\n",
       "  </tbody>\n",
       "</table>\n",
       "</div>"
      ],
      "text/plain": [
       "    country                                        description  \\\n",
       "0     Italy  Aromas include tropical fruit, broom, brimston...   \n",
       "1  Portugal  This is ripe and fruity, a wine that is smooth...   \n",
       "2        US  Tart and snappy, the flavors of lime flesh and...   \n",
       "3        US  Pineapple rind, lemon pith and orange blossom ...   \n",
       "4        US  Much like the regular bottling from 2012, this...   \n",
       "\n",
       "                          designation  points  price           province  \\\n",
       "0                        Vulkà Bianco      87    NaN  Sicily & Sardinia   \n",
       "1                            Avidagos      87   15.0              Douro   \n",
       "2                                 NaN      87   14.0             Oregon   \n",
       "3                Reserve Late Harvest      87   13.0           Michigan   \n",
       "4  Vintner's Reserve Wild Child Block      87   65.0             Oregon   \n",
       "\n",
       "              region_1           region_2         taster_name  \\\n",
       "0                 Etna                NaN       Kerin O’Keefe   \n",
       "1                  NaN                NaN          Roger Voss   \n",
       "2    Willamette Valley  Willamette Valley        Paul Gregutt   \n",
       "3  Lake Michigan Shore                NaN  Alexander Peartree   \n",
       "4    Willamette Valley  Willamette Valley        Paul Gregutt   \n",
       "\n",
       "  taster_twitter_handle                                              title  \\\n",
       "0          @kerinokeefe                  Nicosia 2013 Vulkà Bianco  (Etna)   \n",
       "1            @vossroger      Quinta dos Avidagos 2011 Avidagos Red (Douro)   \n",
       "2           @paulgwine       Rainstorm 2013 Pinot Gris (Willamette Valley)   \n",
       "3                   NaN  St. Julian 2013 Reserve Late Harvest Riesling ...   \n",
       "4           @paulgwine   Sweet Cheeks 2012 Vintner's Reserve Wild Child...   \n",
       "\n",
       "          variety               winery  \n",
       "0     White Blend              Nicosia  \n",
       "1  Portuguese Red  Quinta dos Avidagos  \n",
       "2      Pinot Gris            Rainstorm  \n",
       "3        Riesling           St. Julian  \n",
       "4      Pinot Noir         Sweet Cheeks  "
      ]
     },
     "execution_count": 2,
     "metadata": {},
     "output_type": "execute_result"
    }
   ],
   "source": [
    "reviews.head()"
   ]
  },
  {
   "cell_type": "markdown",
   "id": "60837a22",
   "metadata": {
    "papermill": {
     "duration": 0.004918,
     "end_time": "2022-08-28T11:38:10.177385",
     "exception": false,
     "start_time": "2022-08-28T11:38:10.172467",
     "status": "completed"
    },
    "tags": []
   },
   "source": [
    "## 1.\n",
    "`region_1` and `region_2` are pretty uninformative names for locale columns in the dataset. Create a copy of `reviews` with these columns renamed to `region` and `locale`, respectively."
   ]
  },
  {
   "cell_type": "code",
   "execution_count": 3,
   "id": "7193bfb7",
   "metadata": {
    "execution": {
     "iopub.execute_input": "2022-08-28T11:38:10.189057Z",
     "iopub.status.busy": "2022-08-28T11:38:10.188529Z",
     "iopub.status.idle": "2022-08-28T11:38:10.220611Z",
     "shell.execute_reply": "2022-08-28T11:38:10.219740Z"
    },
    "papermill": {
     "duration": 0.040064,
     "end_time": "2022-08-28T11:38:10.222634",
     "exception": false,
     "start_time": "2022-08-28T11:38:10.182570",
     "status": "completed"
    },
    "tags": []
   },
   "outputs": [
    {
     "data": {
      "application/javascript": [
       "parent.postMessage({\"jupyterEvent\": \"custom.exercise_interaction\", \"data\": {\"outcomeType\": 1, \"valueTowardsCompletion\": 0.25, \"interactionType\": 1, \"questionType\": 1, \"questionId\": \"1_RenameCols\", \"learnToolsVersion\": \"0.3.4\", \"failureMessage\": \"\", \"exceptionClass\": \"\", \"trace\": \"\"}}, \"*\")"
      ],
      "text/plain": [
       "<IPython.core.display.Javascript object>"
      ]
     },
     "metadata": {},
     "output_type": "display_data"
    },
    {
     "data": {
      "text/markdown": [
       "<span style=\"color:#33cc33\">Correct</span>"
      ],
      "text/plain": [
       "Correct"
      ]
     },
     "metadata": {},
     "output_type": "display_data"
    }
   ],
   "source": [
    "# Your code here\n",
    "renamed = reviews.rename(columns=dict(region_1='region', region_2='locale'))\n",
    "# Check your answer\n",
    "q1.check()"
   ]
  },
  {
   "cell_type": "code",
   "execution_count": 4,
   "id": "70ba248b",
   "metadata": {
    "execution": {
     "iopub.execute_input": "2022-08-28T11:38:10.234509Z",
     "iopub.status.busy": "2022-08-28T11:38:10.233818Z",
     "iopub.status.idle": "2022-08-28T11:38:10.237854Z",
     "shell.execute_reply": "2022-08-28T11:38:10.236922Z"
    },
    "papermill": {
     "duration": 0.012029,
     "end_time": "2022-08-28T11:38:10.239863",
     "exception": false,
     "start_time": "2022-08-28T11:38:10.227834",
     "status": "completed"
    },
    "tags": []
   },
   "outputs": [],
   "source": [
    "#q1.hint()\n",
    "#q1.solution()"
   ]
  },
  {
   "cell_type": "markdown",
   "id": "398f4241",
   "metadata": {
    "papermill": {
     "duration": 0.004851,
     "end_time": "2022-08-28T11:38:10.249833",
     "exception": false,
     "start_time": "2022-08-28T11:38:10.244982",
     "status": "completed"
    },
    "tags": []
   },
   "source": [
    "## 2.\n",
    "Set the index name in the dataset to `wines`."
   ]
  },
  {
   "cell_type": "code",
   "execution_count": 5,
   "id": "61e688a6",
   "metadata": {
    "execution": {
     "iopub.execute_input": "2022-08-28T11:38:10.261760Z",
     "iopub.status.busy": "2022-08-28T11:38:10.261466Z",
     "iopub.status.idle": "2022-08-28T11:38:10.292255Z",
     "shell.execute_reply": "2022-08-28T11:38:10.291645Z"
    },
    "papermill": {
     "duration": 0.039092,
     "end_time": "2022-08-28T11:38:10.294311",
     "exception": false,
     "start_time": "2022-08-28T11:38:10.255219",
     "status": "completed"
    },
    "tags": []
   },
   "outputs": [
    {
     "data": {
      "application/javascript": [
       "parent.postMessage({\"jupyterEvent\": \"custom.exercise_interaction\", \"data\": {\"outcomeType\": 1, \"valueTowardsCompletion\": 0.25, \"interactionType\": 1, \"questionType\": 1, \"questionId\": \"2_RenameIndex\", \"learnToolsVersion\": \"0.3.4\", \"failureMessage\": \"\", \"exceptionClass\": \"\", \"trace\": \"\"}}, \"*\")"
      ],
      "text/plain": [
       "<IPython.core.display.Javascript object>"
      ]
     },
     "metadata": {},
     "output_type": "display_data"
    },
    {
     "data": {
      "text/markdown": [
       "<span style=\"color:#33cc33\">Correct</span>"
      ],
      "text/plain": [
       "Correct"
      ]
     },
     "metadata": {},
     "output_type": "display_data"
    }
   ],
   "source": [
    "\n",
    "reindexed = reviews.rename_axis('wines', axis='rows')\n",
    "\n",
    "# Check your answer\n",
    "q2.check()"
   ]
  },
  {
   "cell_type": "code",
   "execution_count": 6,
   "id": "cd56c2b6",
   "metadata": {
    "execution": {
     "iopub.execute_input": "2022-08-28T11:38:10.306047Z",
     "iopub.status.busy": "2022-08-28T11:38:10.305450Z",
     "iopub.status.idle": "2022-08-28T11:38:10.308626Z",
     "shell.execute_reply": "2022-08-28T11:38:10.307885Z"
    },
    "papermill": {
     "duration": 0.010925,
     "end_time": "2022-08-28T11:38:10.310453",
     "exception": false,
     "start_time": "2022-08-28T11:38:10.299528",
     "status": "completed"
    },
    "tags": []
   },
   "outputs": [],
   "source": [
    "#q2.hint()\n",
    "#q2.solution()"
   ]
  },
  {
   "cell_type": "markdown",
   "id": "61cf1749",
   "metadata": {
    "papermill": {
     "duration": 0.005302,
     "end_time": "2022-08-28T11:38:10.321381",
     "exception": false,
     "start_time": "2022-08-28T11:38:10.316079",
     "status": "completed"
    },
    "tags": []
   },
   "source": [
    "## 3.\n",
    "The [Things on Reddit](https://www.kaggle.com/residentmario/things-on-reddit/data) dataset includes product links from a selection of top-ranked forums (\"subreddits\") on reddit.com. Run the cell below to load a dataframe of products mentioned on the */r/gaming* subreddit and another dataframe for products mentioned on the *r//movies* subreddit."
   ]
  },
  {
   "cell_type": "code",
   "execution_count": 7,
   "id": "b78d5bf7",
   "metadata": {
    "execution": {
     "iopub.execute_input": "2022-08-28T11:38:10.333350Z",
     "iopub.status.busy": "2022-08-28T11:38:10.333079Z",
     "iopub.status.idle": "2022-08-28T11:38:10.344828Z",
     "shell.execute_reply": "2022-08-28T11:38:10.344217Z"
    },
    "papermill": {
     "duration": 0.019764,
     "end_time": "2022-08-28T11:38:10.346709",
     "exception": false,
     "start_time": "2022-08-28T11:38:10.326945",
     "status": "completed"
    },
    "tags": []
   },
   "outputs": [],
   "source": [
    "gaming_products = pd.read_csv(\"../input/things-on-reddit/top-things/top-things/reddits/g/gaming.csv\")\n",
    "gaming_products['subreddit'] = \"r/gaming\"\n",
    "movie_products = pd.read_csv(\"../input/things-on-reddit/top-things/top-things/reddits/m/movies.csv\")\n",
    "movie_products['subreddit'] = \"r/movies\""
   ]
  },
  {
   "cell_type": "markdown",
   "id": "87ee3196",
   "metadata": {
    "papermill": {
     "duration": 0.005963,
     "end_time": "2022-08-28T11:38:10.357914",
     "exception": false,
     "start_time": "2022-08-28T11:38:10.351951",
     "status": "completed"
    },
    "tags": []
   },
   "source": [
    "Create a `DataFrame` of products mentioned on *either* subreddit."
   ]
  },
  {
   "cell_type": "code",
   "execution_count": 8,
   "id": "2c400b56",
   "metadata": {
    "execution": {
     "iopub.execute_input": "2022-08-28T11:38:10.369520Z",
     "iopub.status.busy": "2022-08-28T11:38:10.369002Z",
     "iopub.status.idle": "2022-08-28T11:38:10.379118Z",
     "shell.execute_reply": "2022-08-28T11:38:10.378213Z"
    },
    "papermill": {
     "duration": 0.018079,
     "end_time": "2022-08-28T11:38:10.381002",
     "exception": false,
     "start_time": "2022-08-28T11:38:10.362923",
     "status": "completed"
    },
    "tags": []
   },
   "outputs": [
    {
     "data": {
      "application/javascript": [
       "parent.postMessage({\"jupyterEvent\": \"custom.exercise_interaction\", \"data\": {\"outcomeType\": 1, \"valueTowardsCompletion\": 0.25, \"interactionType\": 1, \"questionType\": 2, \"questionId\": \"3_ConcatReddit\", \"learnToolsVersion\": \"0.3.4\", \"failureMessage\": \"\", \"exceptionClass\": \"\", \"trace\": \"\"}}, \"*\")"
      ],
      "text/plain": [
       "<IPython.core.display.Javascript object>"
      ]
     },
     "metadata": {},
     "output_type": "display_data"
    },
    {
     "data": {
      "text/markdown": [
       "<span style=\"color:#33cc33\">Correct</span>"
      ],
      "text/plain": [
       "Correct"
      ]
     },
     "metadata": {},
     "output_type": "display_data"
    }
   ],
   "source": [
    "combined_products = pd.concat([gaming_products, movie_products])\n",
    "\n",
    "# Check your answer\n",
    "q3.check()"
   ]
  },
  {
   "cell_type": "code",
   "execution_count": 9,
   "id": "6bba3d8d",
   "metadata": {
    "execution": {
     "iopub.execute_input": "2022-08-28T11:38:10.392665Z",
     "iopub.status.busy": "2022-08-28T11:38:10.392384Z",
     "iopub.status.idle": "2022-08-28T11:38:10.395916Z",
     "shell.execute_reply": "2022-08-28T11:38:10.395052Z"
    },
    "papermill": {
     "duration": 0.011509,
     "end_time": "2022-08-28T11:38:10.397814",
     "exception": false,
     "start_time": "2022-08-28T11:38:10.386305",
     "status": "completed"
    },
    "tags": []
   },
   "outputs": [],
   "source": [
    "#q3.hint()\n",
    "#q3.solution()"
   ]
  },
  {
   "cell_type": "markdown",
   "id": "d1bcfa59",
   "metadata": {
    "papermill": {
     "duration": 0.005524,
     "end_time": "2022-08-28T11:38:10.408879",
     "exception": false,
     "start_time": "2022-08-28T11:38:10.403355",
     "status": "completed"
    },
    "tags": []
   },
   "source": [
    "## 4.\n",
    "The [Powerlifting Database](https://www.kaggle.com/open-powerlifting/powerlifting-database) dataset on Kaggle includes one CSV table for powerlifting meets and a separate one for powerlifting competitors. Run the cell below to load these datasets into dataframes:"
   ]
  },
  {
   "cell_type": "code",
   "execution_count": 10,
   "id": "1e05c64f",
   "metadata": {
    "execution": {
     "iopub.execute_input": "2022-08-28T11:38:10.421340Z",
     "iopub.status.busy": "2022-08-28T11:38:10.421015Z",
     "iopub.status.idle": "2022-08-28T11:38:11.071721Z",
     "shell.execute_reply": "2022-08-28T11:38:11.070603Z"
    },
    "papermill": {
     "duration": 0.660074,
     "end_time": "2022-08-28T11:38:11.074422",
     "exception": false,
     "start_time": "2022-08-28T11:38:10.414348",
     "status": "completed"
    },
    "tags": []
   },
   "outputs": [],
   "source": [
    "powerlifting_meets = pd.read_csv(\"../input/powerlifting-database/meets.csv\")\n",
    "powerlifting_competitors = pd.read_csv(\"../input/powerlifting-database/openpowerlifting.csv\")"
   ]
  },
  {
   "cell_type": "markdown",
   "id": "cafd3764",
   "metadata": {
    "papermill": {
     "duration": 0.005396,
     "end_time": "2022-08-28T11:38:11.085882",
     "exception": false,
     "start_time": "2022-08-28T11:38:11.080486",
     "status": "completed"
    },
    "tags": []
   },
   "source": [
    "Both tables include references to a `MeetID`, a unique key for each meet (competition) included in the database. Using this, generate a dataset combining the two tables into one."
   ]
  },
  {
   "cell_type": "code",
   "execution_count": 11,
   "id": "d252e722",
   "metadata": {
    "execution": {
     "iopub.execute_input": "2022-08-28T11:38:11.097552Z",
     "iopub.status.busy": "2022-08-28T11:38:11.097209Z",
     "iopub.status.idle": "2022-08-28T11:38:12.071637Z",
     "shell.execute_reply": "2022-08-28T11:38:12.070663Z"
    },
    "papermill": {
     "duration": 0.982772,
     "end_time": "2022-08-28T11:38:12.073671",
     "exception": false,
     "start_time": "2022-08-28T11:38:11.090899",
     "status": "completed"
    },
    "tags": []
   },
   "outputs": [
    {
     "data": {
      "application/javascript": [
       "parent.postMessage({\"jupyterEvent\": \"custom.exercise_interaction\", \"data\": {\"outcomeType\": 1, \"valueTowardsCompletion\": 0.25, \"interactionType\": 1, \"questionType\": 2, \"questionId\": \"4_JoinLifting\", \"learnToolsVersion\": \"0.3.4\", \"failureMessage\": \"\", \"exceptionClass\": \"\", \"trace\": \"\"}}, \"*\")"
      ],
      "text/plain": [
       "<IPython.core.display.Javascript object>"
      ]
     },
     "metadata": {},
     "output_type": "display_data"
    },
    {
     "data": {
      "text/markdown": [
       "<span style=\"color:#33cc33\">Correct</span>"
      ],
      "text/plain": [
       "Correct"
      ]
     },
     "metadata": {},
     "output_type": "display_data"
    }
   ],
   "source": [
    "powerlifting_combined = powerlifting_meets.set_index(\"MeetID\").join(powerlifting_competitors.set_index(\"MeetID\"))\n",
    "\n",
    "# Check your answer\n",
    "q4.check()"
   ]
  },
  {
   "cell_type": "code",
   "execution_count": 12,
   "id": "caeddc07",
   "metadata": {
    "execution": {
     "iopub.execute_input": "2022-08-28T11:38:12.086883Z",
     "iopub.status.busy": "2022-08-28T11:38:12.086560Z",
     "iopub.status.idle": "2022-08-28T11:38:12.090234Z",
     "shell.execute_reply": "2022-08-28T11:38:12.089312Z"
    },
    "papermill": {
     "duration": 0.012234,
     "end_time": "2022-08-28T11:38:12.092242",
     "exception": false,
     "start_time": "2022-08-28T11:38:12.080008",
     "status": "completed"
    },
    "tags": []
   },
   "outputs": [],
   "source": [
    "#q4.hint()\n",
    "#q4.solution()"
   ]
  },
  {
   "cell_type": "markdown",
   "id": "dc1cb874",
   "metadata": {
    "papermill": {
     "duration": 0.005399,
     "end_time": "2022-08-28T11:38:12.103271",
     "exception": false,
     "start_time": "2022-08-28T11:38:12.097872",
     "status": "completed"
    },
    "tags": []
   },
   "source": [
    "# Congratulations!\n",
    "\n",
    "You've finished the Pandas micro-course.  Many data scientists feel efficiency with Pandas is the most useful and practical skill they have, because it allows you to progress quickly in any project you have.\n",
    "\n",
    "If you'd like to apply your new skills to examining geospatial data, you're encouraged to check out our **[Geospatial Analysis](https://www.kaggle.com/learn/geospatial-analysis)** micro-course.\n",
    "\n",
    "You can also take advantage of your Pandas skills by entering a **[Kaggle Competition](https://www.kaggle.com/competitions)** or by answering a question you find interesting using **[Kaggle Datasets](https://www.kaggle.com/datasets)**."
   ]
  },
  {
   "cell_type": "markdown",
   "id": "9f08d79a",
   "metadata": {
    "papermill": {
     "duration": 0.005468,
     "end_time": "2022-08-28T11:38:12.114302",
     "exception": false,
     "start_time": "2022-08-28T11:38:12.108834",
     "status": "completed"
    },
    "tags": []
   },
   "source": [
    "---\n",
    "\n",
    "\n",
    "\n",
    "\n",
    "*Have questions or comments? Visit the [course discussion forum](https://www.kaggle.com/learn/pandas/discussion) to chat with other learners.*"
   ]
  }
 ],
 "metadata": {
  "kernelspec": {
   "display_name": "Python 3",
   "language": "python",
   "name": "python3"
  },
  "language_info": {
   "codemirror_mode": {
    "name": "ipython",
    "version": 3
   },
   "file_extension": ".py",
   "mimetype": "text/x-python",
   "name": "python",
   "nbconvert_exporter": "python",
   "pygments_lexer": "ipython3",
   "version": "3.7.12"
  },
  "papermill": {
   "default_parameters": {},
   "duration": 14.475032,
   "end_time": "2022-08-28T11:38:12.739789",
   "environment_variables": {},
   "exception": null,
   "input_path": "__notebook__.ipynb",
   "output_path": "__notebook__.ipynb",
   "parameters": {},
   "start_time": "2022-08-28T11:37:58.264757",
   "version": "2.3.4"
  }
 },
 "nbformat": 4,
 "nbformat_minor": 5
}
