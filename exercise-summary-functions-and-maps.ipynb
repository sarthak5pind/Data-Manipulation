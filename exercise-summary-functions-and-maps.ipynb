{
 "cells": [
  {
   "cell_type": "markdown",
   "id": "142cda25",
   "metadata": {
    "papermill": {
     "duration": 0.009569,
     "end_time": "2022-08-28T10:52:59.371969",
     "exception": false,
     "start_time": "2022-08-28T10:52:59.362400",
     "status": "completed"
    },
    "tags": []
   },
   "source": [
    "**This notebook is an exercise in the [Pandas](https://www.kaggle.com/learn/pandas) course.  You can reference the tutorial at [this link](https://www.kaggle.com/residentmario/summary-functions-and-maps).**\n",
    "\n",
    "---\n"
   ]
  },
  {
   "cell_type": "markdown",
   "id": "1d8a1060",
   "metadata": {
    "papermill": {
     "duration": 0.006099,
     "end_time": "2022-08-28T10:52:59.388442",
     "exception": false,
     "start_time": "2022-08-28T10:52:59.382343",
     "status": "completed"
    },
    "tags": []
   },
   "source": [
    "# Introduction\n",
    "\n",
    "Now you are ready to get a deeper understanding of your data.\n",
    "\n",
    "Run the following cell to load your data and some utility functions (including code to check your answers)."
   ]
  },
  {
   "cell_type": "code",
   "execution_count": 1,
   "id": "7a4ced62",
   "metadata": {
    "execution": {
     "iopub.execute_input": "2022-08-28T10:52:59.402583Z",
     "iopub.status.busy": "2022-08-28T10:52:59.401976Z",
     "iopub.status.idle": "2022-08-28T10:53:06.442421Z",
     "shell.execute_reply": "2022-08-28T10:53:06.441062Z"
    },
    "papermill": {
     "duration": 7.051442,
     "end_time": "2022-08-28T10:53:06.445955",
     "exception": false,
     "start_time": "2022-08-28T10:52:59.394513",
     "status": "completed"
    },
    "tags": []
   },
   "outputs": [
    {
     "name": "stdout",
     "output_type": "stream",
     "text": [
      "Setup complete.\n"
     ]
    },
    {
     "data": {
      "text/html": [
       "<div>\n",
       "<style scoped>\n",
       "    .dataframe tbody tr th:only-of-type {\n",
       "        vertical-align: middle;\n",
       "    }\n",
       "\n",
       "    .dataframe tbody tr th {\n",
       "        vertical-align: top;\n",
       "    }\n",
       "\n",
       "    .dataframe thead th {\n",
       "        text-align: right;\n",
       "    }\n",
       "</style>\n",
       "<table border=\"1\" class=\"dataframe\">\n",
       "  <thead>\n",
       "    <tr style=\"text-align: right;\">\n",
       "      <th></th>\n",
       "      <th>country</th>\n",
       "      <th>description</th>\n",
       "      <th>designation</th>\n",
       "      <th>points</th>\n",
       "      <th>price</th>\n",
       "      <th>province</th>\n",
       "      <th>region_1</th>\n",
       "      <th>region_2</th>\n",
       "      <th>taster_name</th>\n",
       "      <th>taster_twitter_handle</th>\n",
       "      <th>title</th>\n",
       "      <th>variety</th>\n",
       "      <th>winery</th>\n",
       "    </tr>\n",
       "  </thead>\n",
       "  <tbody>\n",
       "    <tr>\n",
       "      <th>0</th>\n",
       "      <td>Italy</td>\n",
       "      <td>Aromas include tropical fruit, broom, brimston...</td>\n",
       "      <td>Vulkà Bianco</td>\n",
       "      <td>87</td>\n",
       "      <td>NaN</td>\n",
       "      <td>Sicily &amp; Sardinia</td>\n",
       "      <td>Etna</td>\n",
       "      <td>NaN</td>\n",
       "      <td>Kerin O’Keefe</td>\n",
       "      <td>@kerinokeefe</td>\n",
       "      <td>Nicosia 2013 Vulkà Bianco  (Etna)</td>\n",
       "      <td>White Blend</td>\n",
       "      <td>Nicosia</td>\n",
       "    </tr>\n",
       "    <tr>\n",
       "      <th>1</th>\n",
       "      <td>Portugal</td>\n",
       "      <td>This is ripe and fruity, a wine that is smooth...</td>\n",
       "      <td>Avidagos</td>\n",
       "      <td>87</td>\n",
       "      <td>15.0</td>\n",
       "      <td>Douro</td>\n",
       "      <td>NaN</td>\n",
       "      <td>NaN</td>\n",
       "      <td>Roger Voss</td>\n",
       "      <td>@vossroger</td>\n",
       "      <td>Quinta dos Avidagos 2011 Avidagos Red (Douro)</td>\n",
       "      <td>Portuguese Red</td>\n",
       "      <td>Quinta dos Avidagos</td>\n",
       "    </tr>\n",
       "    <tr>\n",
       "      <th>2</th>\n",
       "      <td>US</td>\n",
       "      <td>Tart and snappy, the flavors of lime flesh and...</td>\n",
       "      <td>NaN</td>\n",
       "      <td>87</td>\n",
       "      <td>14.0</td>\n",
       "      <td>Oregon</td>\n",
       "      <td>Willamette Valley</td>\n",
       "      <td>Willamette Valley</td>\n",
       "      <td>Paul Gregutt</td>\n",
       "      <td>@paulgwine</td>\n",
       "      <td>Rainstorm 2013 Pinot Gris (Willamette Valley)</td>\n",
       "      <td>Pinot Gris</td>\n",
       "      <td>Rainstorm</td>\n",
       "    </tr>\n",
       "    <tr>\n",
       "      <th>3</th>\n",
       "      <td>US</td>\n",
       "      <td>Pineapple rind, lemon pith and orange blossom ...</td>\n",
       "      <td>Reserve Late Harvest</td>\n",
       "      <td>87</td>\n",
       "      <td>13.0</td>\n",
       "      <td>Michigan</td>\n",
       "      <td>Lake Michigan Shore</td>\n",
       "      <td>NaN</td>\n",
       "      <td>Alexander Peartree</td>\n",
       "      <td>NaN</td>\n",
       "      <td>St. Julian 2013 Reserve Late Harvest Riesling ...</td>\n",
       "      <td>Riesling</td>\n",
       "      <td>St. Julian</td>\n",
       "    </tr>\n",
       "    <tr>\n",
       "      <th>4</th>\n",
       "      <td>US</td>\n",
       "      <td>Much like the regular bottling from 2012, this...</td>\n",
       "      <td>Vintner's Reserve Wild Child Block</td>\n",
       "      <td>87</td>\n",
       "      <td>65.0</td>\n",
       "      <td>Oregon</td>\n",
       "      <td>Willamette Valley</td>\n",
       "      <td>Willamette Valley</td>\n",
       "      <td>Paul Gregutt</td>\n",
       "      <td>@paulgwine</td>\n",
       "      <td>Sweet Cheeks 2012 Vintner's Reserve Wild Child...</td>\n",
       "      <td>Pinot Noir</td>\n",
       "      <td>Sweet Cheeks</td>\n",
       "    </tr>\n",
       "  </tbody>\n",
       "</table>\n",
       "</div>"
      ],
      "text/plain": [
       "    country                                        description  \\\n",
       "0     Italy  Aromas include tropical fruit, broom, brimston...   \n",
       "1  Portugal  This is ripe and fruity, a wine that is smooth...   \n",
       "2        US  Tart and snappy, the flavors of lime flesh and...   \n",
       "3        US  Pineapple rind, lemon pith and orange blossom ...   \n",
       "4        US  Much like the regular bottling from 2012, this...   \n",
       "\n",
       "                          designation  points  price           province  \\\n",
       "0                        Vulkà Bianco      87    NaN  Sicily & Sardinia   \n",
       "1                            Avidagos      87   15.0              Douro   \n",
       "2                                 NaN      87   14.0             Oregon   \n",
       "3                Reserve Late Harvest      87   13.0           Michigan   \n",
       "4  Vintner's Reserve Wild Child Block      87   65.0             Oregon   \n",
       "\n",
       "              region_1           region_2         taster_name  \\\n",
       "0                 Etna                NaN       Kerin O’Keefe   \n",
       "1                  NaN                NaN          Roger Voss   \n",
       "2    Willamette Valley  Willamette Valley        Paul Gregutt   \n",
       "3  Lake Michigan Shore                NaN  Alexander Peartree   \n",
       "4    Willamette Valley  Willamette Valley        Paul Gregutt   \n",
       "\n",
       "  taster_twitter_handle                                              title  \\\n",
       "0          @kerinokeefe                  Nicosia 2013 Vulkà Bianco  (Etna)   \n",
       "1            @vossroger      Quinta dos Avidagos 2011 Avidagos Red (Douro)   \n",
       "2           @paulgwine       Rainstorm 2013 Pinot Gris (Willamette Valley)   \n",
       "3                   NaN  St. Julian 2013 Reserve Late Harvest Riesling ...   \n",
       "4           @paulgwine   Sweet Cheeks 2012 Vintner's Reserve Wild Child...   \n",
       "\n",
       "          variety               winery  \n",
       "0     White Blend              Nicosia  \n",
       "1  Portuguese Red  Quinta dos Avidagos  \n",
       "2      Pinot Gris            Rainstorm  \n",
       "3        Riesling           St. Julian  \n",
       "4      Pinot Noir         Sweet Cheeks  "
      ]
     },
     "execution_count": 1,
     "metadata": {},
     "output_type": "execute_result"
    }
   ],
   "source": [
    "import pandas as pd\n",
    "pd.set_option(\"display.max_rows\", 5)\n",
    "reviews = pd.read_csv(\"../input/wine-reviews/winemag-data-130k-v2.csv\", index_col=0)\n",
    "\n",
    "from learntools.core import binder; binder.bind(globals())\n",
    "from learntools.pandas.summary_functions_and_maps import *\n",
    "print(\"Setup complete.\")\n",
    "\n",
    "reviews.head()"
   ]
  },
  {
   "cell_type": "markdown",
   "id": "549acc8d",
   "metadata": {
    "papermill": {
     "duration": 0.006118,
     "end_time": "2022-08-28T10:53:06.458900",
     "exception": false,
     "start_time": "2022-08-28T10:53:06.452782",
     "status": "completed"
    },
    "tags": []
   },
   "source": [
    "# Exercises"
   ]
  },
  {
   "cell_type": "markdown",
   "id": "6d0871a1",
   "metadata": {
    "papermill": {
     "duration": 0.006072,
     "end_time": "2022-08-28T10:53:06.471409",
     "exception": false,
     "start_time": "2022-08-28T10:53:06.465337",
     "status": "completed"
    },
    "tags": []
   },
   "source": [
    "## 1.\n",
    "\n",
    "What is the median of the `points` column in the `reviews` DataFrame?"
   ]
  },
  {
   "cell_type": "code",
   "execution_count": 2,
   "id": "a946f407",
   "metadata": {
    "execution": {
     "iopub.execute_input": "2022-08-28T10:53:06.486197Z",
     "iopub.status.busy": "2022-08-28T10:53:06.485793Z",
     "iopub.status.idle": "2022-08-28T10:53:06.496525Z",
     "shell.execute_reply": "2022-08-28T10:53:06.495473Z"
    },
    "papermill": {
     "duration": 0.021047,
     "end_time": "2022-08-28T10:53:06.498813",
     "exception": false,
     "start_time": "2022-08-28T10:53:06.477766",
     "status": "completed"
    },
    "tags": []
   },
   "outputs": [
    {
     "data": {
      "application/javascript": [
       "parent.postMessage({\"jupyterEvent\": \"custom.exercise_interaction\", \"data\": {\"outcomeType\": 1, \"valueTowardsCompletion\": 0.14285714285714285, \"interactionType\": 1, \"questionType\": 1, \"questionId\": \"1_MedianPoints\", \"learnToolsVersion\": \"0.3.4\", \"failureMessage\": \"\", \"exceptionClass\": \"\", \"trace\": \"\"}}, \"*\")"
      ],
      "text/plain": [
       "<IPython.core.display.Javascript object>"
      ]
     },
     "metadata": {},
     "output_type": "display_data"
    },
    {
     "data": {
      "text/markdown": [
       "<span style=\"color:#33cc33\">Correct</span>"
      ],
      "text/plain": [
       "Correct"
      ]
     },
     "metadata": {},
     "output_type": "display_data"
    }
   ],
   "source": [
    "median_points = reviews.points.median()\n",
    "\n",
    "# Check your answer\n",
    "q1.check()"
   ]
  },
  {
   "cell_type": "code",
   "execution_count": 3,
   "id": "1fef568d",
   "metadata": {
    "execution": {
     "iopub.execute_input": "2022-08-28T10:53:06.514110Z",
     "iopub.status.busy": "2022-08-28T10:53:06.513750Z",
     "iopub.status.idle": "2022-08-28T10:53:06.517886Z",
     "shell.execute_reply": "2022-08-28T10:53:06.516825Z"
    },
    "papermill": {
     "duration": 0.014547,
     "end_time": "2022-08-28T10:53:06.520274",
     "exception": false,
     "start_time": "2022-08-28T10:53:06.505727",
     "status": "completed"
    },
    "tags": []
   },
   "outputs": [],
   "source": [
    "#q1.hint()\n",
    "#q1.solution()"
   ]
  },
  {
   "cell_type": "markdown",
   "id": "c9480672",
   "metadata": {
    "papermill": {
     "duration": 0.006493,
     "end_time": "2022-08-28T10:53:06.533574",
     "exception": false,
     "start_time": "2022-08-28T10:53:06.527081",
     "status": "completed"
    },
    "tags": []
   },
   "source": [
    "## 2. \n",
    "What countries are represented in the dataset? (Your answer should not include any duplicates.)"
   ]
  },
  {
   "cell_type": "code",
   "execution_count": 4,
   "id": "aea48767",
   "metadata": {
    "execution": {
     "iopub.execute_input": "2022-08-28T10:53:06.549005Z",
     "iopub.status.busy": "2022-08-28T10:53:06.548569Z",
     "iopub.status.idle": "2022-08-28T10:53:06.562532Z",
     "shell.execute_reply": "2022-08-28T10:53:06.561715Z"
    },
    "papermill": {
     "duration": 0.024429,
     "end_time": "2022-08-28T10:53:06.564764",
     "exception": false,
     "start_time": "2022-08-28T10:53:06.540335",
     "status": "completed"
    },
    "tags": []
   },
   "outputs": [
    {
     "data": {
      "application/javascript": [
       "parent.postMessage({\"jupyterEvent\": \"custom.exercise_interaction\", \"data\": {\"outcomeType\": 1, \"valueTowardsCompletion\": 0.14285714285714285, \"interactionType\": 1, \"questionType\": 2, \"questionId\": \"2_UniqueCountries\", \"learnToolsVersion\": \"0.3.4\", \"failureMessage\": \"\", \"exceptionClass\": \"\", \"trace\": \"\"}}, \"*\")"
      ],
      "text/plain": [
       "<IPython.core.display.Javascript object>"
      ]
     },
     "metadata": {},
     "output_type": "display_data"
    },
    {
     "data": {
      "text/markdown": [
       "<span style=\"color:#33cc33\">Correct</span>"
      ],
      "text/plain": [
       "Correct"
      ]
     },
     "metadata": {},
     "output_type": "display_data"
    }
   ],
   "source": [
    "countries = reviews.country.unique()\n",
    "\n",
    "\n",
    "# Check your answer\n",
    "q2.check()"
   ]
  },
  {
   "cell_type": "code",
   "execution_count": 5,
   "id": "bda06a55",
   "metadata": {
    "execution": {
     "iopub.execute_input": "2022-08-28T10:53:06.580817Z",
     "iopub.status.busy": "2022-08-28T10:53:06.580186Z",
     "iopub.status.idle": "2022-08-28T10:53:06.583811Z",
     "shell.execute_reply": "2022-08-28T10:53:06.583054Z"
    },
    "papermill": {
     "duration": 0.014247,
     "end_time": "2022-08-28T10:53:06.585905",
     "exception": false,
     "start_time": "2022-08-28T10:53:06.571658",
     "status": "completed"
    },
    "tags": []
   },
   "outputs": [],
   "source": [
    "#q2.hint()\n",
    "#q2.solution()"
   ]
  },
  {
   "cell_type": "markdown",
   "id": "213281a5",
   "metadata": {
    "papermill": {
     "duration": 0.006604,
     "end_time": "2022-08-28T10:53:06.599463",
     "exception": false,
     "start_time": "2022-08-28T10:53:06.592859",
     "status": "completed"
    },
    "tags": []
   },
   "source": [
    "## 3.\n",
    "How often does each country appear in the dataset? Create a Series `reviews_per_country` mapping countries to the count of reviews of wines from that country."
   ]
  },
  {
   "cell_type": "code",
   "execution_count": 6,
   "id": "53c40172",
   "metadata": {
    "execution": {
     "iopub.execute_input": "2022-08-28T10:53:06.615319Z",
     "iopub.status.busy": "2022-08-28T10:53:06.614729Z",
     "iopub.status.idle": "2022-08-28T10:53:06.631198Z",
     "shell.execute_reply": "2022-08-28T10:53:06.629923Z"
    },
    "papermill": {
     "duration": 0.026902,
     "end_time": "2022-08-28T10:53:06.633509",
     "exception": false,
     "start_time": "2022-08-28T10:53:06.606607",
     "status": "completed"
    },
    "tags": []
   },
   "outputs": [
    {
     "data": {
      "application/javascript": [
       "parent.postMessage({\"jupyterEvent\": \"custom.exercise_interaction\", \"data\": {\"outcomeType\": 1, \"valueTowardsCompletion\": 0.14285714285714285, \"interactionType\": 1, \"questionType\": 1, \"questionId\": \"3_ReviewsPerCountry\", \"learnToolsVersion\": \"0.3.4\", \"failureMessage\": \"\", \"exceptionClass\": \"\", \"trace\": \"\"}}, \"*\")"
      ],
      "text/plain": [
       "<IPython.core.display.Javascript object>"
      ]
     },
     "metadata": {},
     "output_type": "display_data"
    },
    {
     "data": {
      "text/markdown": [
       "<span style=\"color:#33cc33\">Correct</span>"
      ],
      "text/plain": [
       "Correct"
      ]
     },
     "metadata": {},
     "output_type": "display_data"
    }
   ],
   "source": [
    "reviews_per_country = reviews.country.value_counts()\n",
    "\n",
    "\n",
    "# Check your answer\n",
    "q3.check()"
   ]
  },
  {
   "cell_type": "code",
   "execution_count": 7,
   "id": "bfb1cc35",
   "metadata": {
    "execution": {
     "iopub.execute_input": "2022-08-28T10:53:06.649903Z",
     "iopub.status.busy": "2022-08-28T10:53:06.649135Z",
     "iopub.status.idle": "2022-08-28T10:53:06.653030Z",
     "shell.execute_reply": "2022-08-28T10:53:06.652150Z"
    },
    "papermill": {
     "duration": 0.014517,
     "end_time": "2022-08-28T10:53:06.655075",
     "exception": false,
     "start_time": "2022-08-28T10:53:06.640558",
     "status": "completed"
    },
    "tags": []
   },
   "outputs": [],
   "source": [
    "#q3.hint()\n",
    "#q3.solution()"
   ]
  },
  {
   "cell_type": "markdown",
   "id": "58ed3073",
   "metadata": {
    "papermill": {
     "duration": 0.006735,
     "end_time": "2022-08-28T10:53:06.669823",
     "exception": false,
     "start_time": "2022-08-28T10:53:06.663088",
     "status": "completed"
    },
    "tags": []
   },
   "source": [
    "## 4.\n",
    "Create variable `centered_price` containing a version of the `price` column with the mean price subtracted.\n",
    "\n",
    "(Note: this 'centering' transformation is a common preprocessing step before applying various machine learning algorithms.) "
   ]
  },
  {
   "cell_type": "code",
   "execution_count": 8,
   "id": "630507dc",
   "metadata": {
    "execution": {
     "iopub.execute_input": "2022-08-28T10:53:06.685814Z",
     "iopub.status.busy": "2022-08-28T10:53:06.685124Z",
     "iopub.status.idle": "2022-08-28T10:53:06.694750Z",
     "shell.execute_reply": "2022-08-28T10:53:06.693985Z"
    },
    "papermill": {
     "duration": 0.020149,
     "end_time": "2022-08-28T10:53:06.696940",
     "exception": false,
     "start_time": "2022-08-28T10:53:06.676791",
     "status": "completed"
    },
    "tags": []
   },
   "outputs": [
    {
     "data": {
      "application/javascript": [
       "parent.postMessage({\"jupyterEvent\": \"custom.exercise_interaction\", \"data\": {\"outcomeType\": 1, \"valueTowardsCompletion\": 0.14285714285714285, \"interactionType\": 1, \"questionType\": 1, \"questionId\": \"4_CenteredPrice\", \"learnToolsVersion\": \"0.3.4\", \"failureMessage\": \"\", \"exceptionClass\": \"\", \"trace\": \"\"}}, \"*\")"
      ],
      "text/plain": [
       "<IPython.core.display.Javascript object>"
      ]
     },
     "metadata": {},
     "output_type": "display_data"
    },
    {
     "data": {
      "text/markdown": [
       "<span style=\"color:#33cc33\">Correct</span>"
      ],
      "text/plain": [
       "Correct"
      ]
     },
     "metadata": {},
     "output_type": "display_data"
    }
   ],
   "source": [
    "centered_price = reviews.price - reviews.price.mean()\n",
    "\n",
    "# Check your answer\n",
    "q4.check()"
   ]
  },
  {
   "cell_type": "code",
   "execution_count": 9,
   "id": "09a28293",
   "metadata": {
    "execution": {
     "iopub.execute_input": "2022-08-28T10:53:06.713414Z",
     "iopub.status.busy": "2022-08-28T10:53:06.712821Z",
     "iopub.status.idle": "2022-08-28T10:53:06.716201Z",
     "shell.execute_reply": "2022-08-28T10:53:06.715488Z"
    },
    "papermill": {
     "duration": 0.013991,
     "end_time": "2022-08-28T10:53:06.718188",
     "exception": false,
     "start_time": "2022-08-28T10:53:06.704197",
     "status": "completed"
    },
    "tags": []
   },
   "outputs": [],
   "source": [
    "#q4.hint()\n",
    "#q4.solution()"
   ]
  },
  {
   "cell_type": "markdown",
   "id": "a5547ded",
   "metadata": {
    "papermill": {
     "duration": 0.006954,
     "end_time": "2022-08-28T10:53:06.732441",
     "exception": false,
     "start_time": "2022-08-28T10:53:06.725487",
     "status": "completed"
    },
    "tags": []
   },
   "source": [
    "## 5.\n",
    "I'm an economical wine buyer. Which wine is the \"best bargain\"? Create a variable `bargain_wine` with the title of the wine with the highest points-to-price ratio in the dataset."
   ]
  },
  {
   "cell_type": "code",
   "execution_count": 10,
   "id": "bfe643ca",
   "metadata": {
    "execution": {
     "iopub.execute_input": "2022-08-28T10:53:06.749485Z",
     "iopub.status.busy": "2022-08-28T10:53:06.748885Z",
     "iopub.status.idle": "2022-08-28T10:53:06.761895Z",
     "shell.execute_reply": "2022-08-28T10:53:06.761050Z"
    },
    "papermill": {
     "duration": 0.023721,
     "end_time": "2022-08-28T10:53:06.763877",
     "exception": false,
     "start_time": "2022-08-28T10:53:06.740156",
     "status": "completed"
    },
    "tags": []
   },
   "outputs": [
    {
     "data": {
      "application/javascript": [
       "parent.postMessage({\"jupyterEvent\": \"custom.exercise_interaction\", \"data\": {\"outcomeType\": 1, \"valueTowardsCompletion\": 0.14285714285714285, \"interactionType\": 1, \"questionType\": 2, \"questionId\": \"5_BargainWine\", \"learnToolsVersion\": \"0.3.4\", \"failureMessage\": \"\", \"exceptionClass\": \"\", \"trace\": \"\"}}, \"*\")"
      ],
      "text/plain": [
       "<IPython.core.display.Javascript object>"
      ]
     },
     "metadata": {},
     "output_type": "display_data"
    },
    {
     "data": {
      "text/markdown": [
       "<span style=\"color:#33cc33\">Correct</span>"
      ],
      "text/plain": [
       "Correct"
      ]
     },
     "metadata": {},
     "output_type": "display_data"
    }
   ],
   "source": [
    "bargain_idx = (reviews.points / reviews.price).idxmax()\n",
    "bargain_wine = reviews.loc[bargain_idx, 'title']\n",
    "\n",
    "# Check your answer\n",
    "q5.check()"
   ]
  },
  {
   "cell_type": "code",
   "execution_count": 11,
   "id": "c058af89",
   "metadata": {
    "execution": {
     "iopub.execute_input": "2022-08-28T10:53:06.780970Z",
     "iopub.status.busy": "2022-08-28T10:53:06.780295Z",
     "iopub.status.idle": "2022-08-28T10:53:06.783866Z",
     "shell.execute_reply": "2022-08-28T10:53:06.783139Z"
    },
    "papermill": {
     "duration": 0.014619,
     "end_time": "2022-08-28T10:53:06.786030",
     "exception": false,
     "start_time": "2022-08-28T10:53:06.771411",
     "status": "completed"
    },
    "tags": []
   },
   "outputs": [],
   "source": [
    "#q5.hint()\n",
    "#q5.solution()"
   ]
  },
  {
   "cell_type": "markdown",
   "id": "7e8e3d0f",
   "metadata": {
    "papermill": {
     "duration": 0.007131,
     "end_time": "2022-08-28T10:53:06.800833",
     "exception": false,
     "start_time": "2022-08-28T10:53:06.793702",
     "status": "completed"
    },
    "tags": []
   },
   "source": [
    "## 6.\n",
    "There are only so many words you can use when describing a bottle of wine. Is a wine more likely to be \"tropical\" or \"fruity\"? Create a Series `descriptor_counts` counting how many times each of these two words appears in the `description` column in the dataset. (For simplicity, let's ignore the capitalized versions of these words.)"
   ]
  },
  {
   "cell_type": "code",
   "execution_count": 12,
   "id": "f7fa3c28",
   "metadata": {
    "execution": {
     "iopub.execute_input": "2022-08-28T10:53:06.817751Z",
     "iopub.status.busy": "2022-08-28T10:53:06.817173Z",
     "iopub.status.idle": "2022-08-28T10:53:06.961060Z",
     "shell.execute_reply": "2022-08-28T10:53:06.960098Z"
    },
    "papermill": {
     "duration": 0.155227,
     "end_time": "2022-08-28T10:53:06.963536",
     "exception": false,
     "start_time": "2022-08-28T10:53:06.808309",
     "status": "completed"
    },
    "tags": []
   },
   "outputs": [
    {
     "data": {
      "application/javascript": [
       "parent.postMessage({\"jupyterEvent\": \"custom.exercise_interaction\", \"data\": {\"outcomeType\": 1, \"valueTowardsCompletion\": 0.14285714285714285, \"interactionType\": 1, \"questionType\": 1, \"questionId\": \"6_DescriptorCounts\", \"learnToolsVersion\": \"0.3.4\", \"failureMessage\": \"\", \"exceptionClass\": \"\", \"trace\": \"\"}}, \"*\")"
      ],
      "text/plain": [
       "<IPython.core.display.Javascript object>"
      ]
     },
     "metadata": {},
     "output_type": "display_data"
    },
    {
     "data": {
      "text/markdown": [
       "<span style=\"color:#33cc33\">Correct</span>"
      ],
      "text/plain": [
       "Correct"
      ]
     },
     "metadata": {},
     "output_type": "display_data"
    }
   ],
   "source": [
    "n_trop = reviews.description.map(lambda desc: \"tropical\" in desc).sum()\n",
    "n_fruity = reviews.description.map(lambda desc: \"fruity\" in desc).sum()\n",
    "descriptor_counts = pd.Series([n_trop, n_fruity], index=['tropical', 'fruity'])\n",
    "\n",
    "# Check your answer\n",
    "q6.check()"
   ]
  },
  {
   "cell_type": "code",
   "execution_count": 13,
   "id": "1e43d5ff",
   "metadata": {
    "execution": {
     "iopub.execute_input": "2022-08-28T10:53:06.981257Z",
     "iopub.status.busy": "2022-08-28T10:53:06.980184Z",
     "iopub.status.idle": "2022-08-28T10:53:06.984505Z",
     "shell.execute_reply": "2022-08-28T10:53:06.983659Z"
    },
    "papermill": {
     "duration": 0.015262,
     "end_time": "2022-08-28T10:53:06.986534",
     "exception": false,
     "start_time": "2022-08-28T10:53:06.971272",
     "status": "completed"
    },
    "tags": []
   },
   "outputs": [],
   "source": [
    "#q6.hint()\n",
    "#q6.solution()"
   ]
  },
  {
   "cell_type": "markdown",
   "id": "b980a94b",
   "metadata": {
    "papermill": {
     "duration": 0.007419,
     "end_time": "2022-08-28T10:53:07.001754",
     "exception": false,
     "start_time": "2022-08-28T10:53:06.994335",
     "status": "completed"
    },
    "tags": []
   },
   "source": [
    "## 7.\n",
    "We'd like to host these wine reviews on our website, but a rating system ranging from 80 to 100 points is too hard to understand - we'd like to translate them into simple star ratings. A score of 95 or higher counts as 3 stars, a score of at least 85 but less than 95 is 2 stars. Any other score is 1 star.\n",
    "\n",
    "Also, the Canadian Vintners Association bought a lot of ads on the site, so any wines from Canada should automatically get 3 stars, regardless of points.\n",
    "\n",
    "Create a series `star_ratings` with the number of stars corresponding to each review in the dataset."
   ]
  },
  {
   "cell_type": "code",
   "execution_count": 14,
   "id": "e793dfe8",
   "metadata": {
    "execution": {
     "iopub.execute_input": "2022-08-28T10:53:07.019443Z",
     "iopub.status.busy": "2022-08-28T10:53:07.018771Z",
     "iopub.status.idle": "2022-08-28T10:53:10.918341Z",
     "shell.execute_reply": "2022-08-28T10:53:10.917603Z"
    },
    "papermill": {
     "duration": 3.910846,
     "end_time": "2022-08-28T10:53:10.920477",
     "exception": false,
     "start_time": "2022-08-28T10:53:07.009631",
     "status": "completed"
    },
    "tags": []
   },
   "outputs": [
    {
     "data": {
      "application/javascript": [
       "parent.postMessage({\"jupyterEvent\": \"custom.exercise_interaction\", \"data\": {\"outcomeType\": 1, \"valueTowardsCompletion\": 0.14285714285714285, \"interactionType\": 1, \"questionType\": 1, \"questionId\": \"7_StarRatings\", \"learnToolsVersion\": \"0.3.4\", \"failureMessage\": \"\", \"exceptionClass\": \"\", \"trace\": \"\"}}, \"*\")"
      ],
      "text/plain": [
       "<IPython.core.display.Javascript object>"
      ]
     },
     "metadata": {},
     "output_type": "display_data"
    },
    {
     "data": {
      "text/markdown": [
       "<span style=\"color:#33cc33\">Correct</span>"
      ],
      "text/plain": [
       "Correct"
      ]
     },
     "metadata": {},
     "output_type": "display_data"
    }
   ],
   "source": [
    "def stars(row):\n",
    "    if row.country == 'Canada':\n",
    "        return 3\n",
    "    elif row.points >= 95:\n",
    "        return 3\n",
    "    elif row.points >= 85:\n",
    "        return 2\n",
    "    else:\n",
    "        return 1\n",
    "\n",
    "star_ratings = reviews.apply(stars, axis='columns')\n",
    "\n",
    "# Check your answer\n",
    "q7.check()"
   ]
  },
  {
   "cell_type": "code",
   "execution_count": 15,
   "id": "5b2088ef",
   "metadata": {
    "execution": {
     "iopub.execute_input": "2022-08-28T10:53:10.939394Z",
     "iopub.status.busy": "2022-08-28T10:53:10.938721Z",
     "iopub.status.idle": "2022-08-28T10:53:10.942308Z",
     "shell.execute_reply": "2022-08-28T10:53:10.941640Z"
    },
    "papermill": {
     "duration": 0.015497,
     "end_time": "2022-08-28T10:53:10.944538",
     "exception": false,
     "start_time": "2022-08-28T10:53:10.929041",
     "status": "completed"
    },
    "tags": []
   },
   "outputs": [],
   "source": [
    "#q7.hint()\n",
    "#q7.solution()"
   ]
  },
  {
   "cell_type": "markdown",
   "id": "6449dd1c",
   "metadata": {
    "papermill": {
     "duration": 0.007682,
     "end_time": "2022-08-28T10:53:10.960286",
     "exception": false,
     "start_time": "2022-08-28T10:53:10.952604",
     "status": "completed"
    },
    "tags": []
   },
   "source": [
    "# Keep going\n",
    "Continue to **[grouping and sorting](https://www.kaggle.com/residentmario/grouping-and-sorting)**."
   ]
  },
  {
   "cell_type": "markdown",
   "id": "d8fbda9c",
   "metadata": {
    "papermill": {
     "duration": 0.007548,
     "end_time": "2022-08-28T10:53:10.975824",
     "exception": false,
     "start_time": "2022-08-28T10:53:10.968276",
     "status": "completed"
    },
    "tags": []
   },
   "source": [
    "---\n",
    "\n",
    "\n",
    "\n",
    "\n",
    "*Have questions or comments? Visit the [course discussion forum](https://www.kaggle.com/learn/pandas/discussion) to chat with other learners.*"
   ]
  }
 ],
 "metadata": {
  "kernelspec": {
   "display_name": "Python 3",
   "language": "python",
   "name": "python3"
  },
  "language_info": {
   "codemirror_mode": {
    "name": "ipython",
    "version": 3
   },
   "file_extension": ".py",
   "mimetype": "text/x-python",
   "name": "python",
   "nbconvert_exporter": "python",
   "pygments_lexer": "ipython3",
   "version": "3.7.12"
  },
  "papermill": {
   "default_parameters": {},
   "duration": 21.258246,
   "end_time": "2022-08-28T10:53:11.705676",
   "environment_variables": {},
   "exception": null,
   "input_path": "__notebook__.ipynb",
   "output_path": "__notebook__.ipynb",
   "parameters": {},
   "start_time": "2022-08-28T10:52:50.447430",
   "version": "2.3.4"
  }
 },
 "nbformat": 4,
 "nbformat_minor": 5
}
